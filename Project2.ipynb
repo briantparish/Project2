{
 "cells": [
  {
   "cell_type": "code",
   "execution_count": 1,
   "metadata": {},
   "outputs": [],
   "source": [
    "from bs4 import BeautifulSoup\n",
    "import pandas as pd\n",
    "from splinter import Browser\n",
    "import time \n",
    "import re\n",
    "import lxml"
   ]
  },
  {
   "cell_type": "code",
   "execution_count": 2,
   "metadata": {},
   "outputs": [
    {
     "data": {
      "text/plain": [
       "'https://heavens-above.com/SatInfo.aspx?satid=44914&lat=0&lng=0&loc=Unspecified&alt=0&tz=UCT'"
      ]
     },
     "execution_count": 2,
     "metadata": {},
     "output_type": "execute_result"
    }
   ],
   "source": [
    "url1 = \"https://heavens-above.com/SatInfo.aspx?satid=\"\n",
    "url2 = \"&lat=0&lng=0&loc=Unspecified&alt=0&tz=UCT\"\n",
    "\n",
    "satid_latest = 44914\n",
    "satid_start = 44910\n",
    "\n",
    "url = url1 + str(satid_latest) + url2\n",
    "url"
   ]
  },
  {
   "cell_type": "code",
   "execution_count": 3,
   "metadata": {},
   "outputs": [],
   "source": [
    "def init_browser():\n",
    "    # @NOTE: Replace the path with your actual path to the chromedriver\n",
    "    executable_path = {\"executable_path\": \"C:\\chromedriver\\chromedriver.exe\"}\n",
    "    return Browser(\"chrome\", **executable_path, headless=False)\n",
    "\n",
    "browser = init_browser()\n",
    "launches = {}"
   ]
  },
  {
   "cell_type": "code",
   "execution_count": 4,
   "metadata": {},
   "outputs": [],
   "source": [
    "browser.visit(url)\n",
    "html = browser.html\n",
    "soup = BeautifulSoup(html, \"html.parser\")\n",
    "#mars[“Title”] = soup.find(\"div\", class_=\"content_title\").get_text()\n",
    "#mars[“Description”] = soup.find(\"div\", class_=\"rollover_description_inner\").get_text()\n",
    "#mars"
   ]
  },
  {
   "cell_type": "code",
   "execution_count": 5,
   "metadata": {
    "scrolled": false
   },
   "outputs": [
    {
     "data": {
      "text/plain": [
       "'STARLINK-1073 - Satellite Information'"
      ]
     },
     "execution_count": 5,
     "metadata": {},
     "output_type": "execute_result"
    }
   ],
   "source": [
    "soup.find(\"span\", class_=\"pagehead\").get_text()"
   ]
  },
  {
   "cell_type": "code",
   "execution_count": 25,
   "metadata": {},
   "outputs": [
    {
     "data": {
      "text/plain": [
       "'STARLINK-1073 - Satellite Information'"
      ]
     },
     "execution_count": 25,
     "metadata": {},
     "output_type": "execute_result"
    }
   ],
   "source": [
    "soup.find(\"span\", class_= \"pagehead\").get_text()"
   ]
  },
  {
   "cell_type": "code",
   "execution_count": 26,
   "metadata": {},
   "outputs": [
    {
     "data": {
      "text/plain": [
       "'07 January 2020 02:19'"
      ]
     },
     "execution_count": 26,
     "metadata": {},
     "output_type": "execute_result"
    }
   ],
   "source": [
    "soup.find(\"span\", id=\"ctl00_cph1_lblLaunchDate\").get_text()"
   ]
  },
  {
   "cell_type": "code",
   "execution_count": 27,
   "metadata": {},
   "outputs": [
    {
     "data": {
      "text/html": [
       "<div>\n",
       "<style scoped>\n",
       "    .dataframe tbody tr th:only-of-type {\n",
       "        vertical-align: middle;\n",
       "    }\n",
       "\n",
       "    .dataframe tbody tr th {\n",
       "        vertical-align: top;\n",
       "    }\n",
       "\n",
       "    .dataframe thead th {\n",
       "        text-align: right;\n",
       "    }\n",
       "</style>\n",
       "<table border=\"1\" class=\"dataframe\">\n",
       "  <thead>\n",
       "    <tr style=\"text-align: right;\">\n",
       "      <th></th>\n",
       "      <th>Satellite Name</th>\n",
       "      <th>Launch Date</th>\n",
       "    </tr>\n",
       "  </thead>\n",
       "  <tbody>\n",
       "  </tbody>\n",
       "</table>\n",
       "</div>"
      ],
      "text/plain": [
       "Empty DataFrame\n",
       "Columns: [Satellite Name, Launch Date]\n",
       "Index: []"
      ]
     },
     "execution_count": 27,
     "metadata": {},
     "output_type": "execute_result"
    }
   ],
   "source": [
    "launches = pd.DataFrame(columns = {\"Satellite Name\", \"Launch Date\"})\n",
    "launches"
   ]
  },
  {
   "cell_type": "code",
   "execution_count": 28,
   "metadata": {},
   "outputs": [],
   "source": [
    "for x in range(44910, 44914):\n",
    "    try:\n",
    "        url = url1 + str(x) + url2\n",
    "        browser.visit(url)\n",
    "        html = browser.html\n",
    "        time.sleep(3)\n",
    "        soup = BeautifulSoup(html, \"html.parser\")\n",
    "        header = soup.find(\"span\", class_=\"pagehead\").get_text()\n",
    "        date = soup.find(\"span\", id=\"ctl00_cph1_lblLaunchDate\").get_text()\n",
    "        current_launch = pd.DataFrame({\"Satellite Name\": header, \"Launch Date\": date}, index=[x])\n",
    "        launches = launches.append(current_launch)\n",
    "    except:\n",
    "        print(\"Page Not Found\")"
   ]
  },
  {
   "cell_type": "code",
   "execution_count": 54,
   "metadata": {},
   "outputs": [
    {
     "data": {
      "text/plain": [
       "<!DOCTYPE html>\n",
       "<html dir=\"ltr\" lang=\"en\" xmlns=\"http://www.w3.org/1999/xhtml\"><head><title>\n",
       "\tCOSMOS 2491 DEB - Satellite Information\n",
       "</title><meta content=\"IE=edge\" http-equiv=\"X-UA-Compatible\"/><meta content=\"Satellite predictions and other astronomical data customised for your location.\" name=\"description\"/><link href=\"css/ha.css\" rel=\"stylesheet\" type=\"text/css\"/><link href=\"/favicon.ico\" rel=\"shortcut icon\" type=\"image/vnd.microsoft.icon\"/><link href=\"/favicon.ico\" rel=\"icon\" type=\"image/vnd.microsoft.icon\"/>\n",
       "<script src=\"https://www.googletagservices.com/activeview/js/current/osd.js?cb=%2Fr20100101\"></script><script id=\"google_shimpl\" src=\"https://pagead2.googlesyndication.com/pagead/js/r20200506/r20190131/show_ads_impl_fy2019.js\"></script><script src=\"https://partner.googleadservices.com/gampad/cookie.js?domain=heavens-above.com&amp;callback=_gfp_s_&amp;client=ca-pub-5668297076217155&amp;cookie=ID%3D075048d1de42e348%3AT%3D1589343632%3AS%3DALNI_MYg8gc_auyfIGQYe9YlUYTPtInHrw&amp;crv=1\"></script><script src=\"//code.jquery.com/jquery-1.12.0.min.js\" type=\"text/javascript\"></script>\n",
       "<script src=\"/scripts/standard.min.js\" type=\"text/javascript\"></script>\n",
       "<script type=\"text/javascript\">\n",
       "\t\tfunction updateLocalTime(utc) {\n",
       "\t\t\tvar localdiff = parseInt($('#utcOffset').val());\n",
       "\t\t\tvar local_now = new Date(utc.getTime() + localdiff);\n",
       "\t\t\t$('#spanTime').text(formatTime(local_now));\n",
       "\t\t}\n",
       "\n",
       "\t\t$(function () {\n",
       "\t\t\tonClockTick = updateLocalTime;\n",
       "\t\t\tstartClock();\n",
       "\t\t});\n",
       "\t</script>\n",
       "<link as=\"script\" href=\"https://adservice.google.com/adsid/integrator.js?domain=heavens-above.com\" rel=\"preload\"/><script src=\"https://adservice.google.com/adsid/integrator.js?domain=heavens-above.com\" type=\"text/javascript\"></script><script async=\"\" defer=\"\" src=\"//impl.onscroll.com/vet-takeover/2017/02/1487848477922.js\" type=\"text/javascript\"></script><script async=\"\" defer=\"\" src=\"//impl.onscroll.com/engaged-refresh/2016/12/1481103489249.js\" type=\"text/javascript\"></script><script async=\"\" defer=\"\" src=\"//impl.onscroll.com/engaged-refresh/2016/12/1481103489249.js\" type=\"text/javascript\"></script><script async=\"\" defer=\"\" src=\"//impl.onscroll.com/engaged-refresh/2016/12/1481103489249.js\" type=\"text/javascript\"></script><script async=\"\" defer=\"\" src=\"//impl.onscroll.com/engaged-refresh/2016/12/1481103489249.js\" type=\"text/javascript\"></script></head>\n",
       "<body>\n",
       "<form action=\"./SatInfo.aspx?satid=44913&amp;lat=0&amp;lng=0&amp;loc=Unspecified&amp;alt=0&amp;tz=UCT\" id=\"aspnetForm\" method=\"post\" name=\"aspnetForm\">\n",
       "<div>\n",
       "<input id=\"__EVENTTARGET\" name=\"__EVENTTARGET\" type=\"hidden\" value=\"\"/>\n",
       "<input id=\"__EVENTARGUMENT\" name=\"__EVENTARGUMENT\" type=\"hidden\" value=\"\"/>\n",
       "<input id=\"__LASTFOCUS\" name=\"__LASTFOCUS\" type=\"hidden\" value=\"\"/>\n",
       "<input id=\"__VIEWSTATE\" name=\"__VIEWSTATE\" type=\"hidden\" value=\"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\"/>\n",
       "</div>\n",
       "<script type=\"text/javascript\">\n",
       "//&lt;![CDATA[\n",
       "var theForm = document.forms['aspnetForm'];\n",
       "if (!theForm) {\n",
       "    theForm = document.aspnetForm;\n",
       "}\n",
       "function __doPostBack(eventTarget, eventArgument) {\n",
       "    if (!theForm.onsubmit || (theForm.onsubmit() != false)) {\n",
       "        theForm.__EVENTTARGET.value = eventTarget;\n",
       "        theForm.__EVENTARGUMENT.value = eventArgument;\n",
       "        theForm.submit();\n",
       "    }\n",
       "}\n",
       "//]]&gt;\n",
       "</script>\n",
       "<div>\n",
       "<input id=\"__VIEWSTATEGENERATOR\" name=\"__VIEWSTATEGENERATOR\" type=\"hidden\" value=\"AE24612F\"/>\n",
       "</div>\n",
       "<input id=\"utcOffset\" name=\"utcOffset\" type=\"hidden\" value=\"0\"/>\n",
       "<table border=\"0\" style=\"margin-left: auto; margin-right: auto; border-style: none\">\n",
       "<tbody><tr>\n",
       "<td>\n",
       "<a href=\"./?lat=0&amp;lng=0&amp;loc=Unspecified&amp;alt=0&amp;tz=UCT\" id=\"ctl00_hyperlinkLogo\" style=\"display:inline-block;border-style:None;\"><img alt=\"\" src=\"//www.heavens-above.com/images/LogoNew.png\" style=\"border-width:0px;\"/></a>\n",
       "</td>\n",
       "<td>\n",
       "<script type=\"text/javascript\"> &lt;!--\n",
       "google_ad_client = \"ca-pub-5668297076217155\";\n",
       "google_ad_slot = \"5479771053\";\n",
       "google_ad_width = 728;\n",
       "google_ad_height = 90;\n",
       "//--&gt;\n",
       "</script>\n",
       "<script src=\"//pagead2.googlesyndication.com/pagead/show_ads.js\" type=\"text/javascript\"></script><ins data-ad-slot=\"5479771053\" id=\"aswift_0_expand\" style=\"display:inline-table;border:none;height:90px;margin:0;padding:0;position:relative;visibility:visible;width:580px;background-color:transparent;\"><ins id=\"aswift_0_anchor\" style=\"display:block;border:none;height:90px;margin:0;padding:0;position:relative;visibility:visible;width:580px;background-color:transparent;\"><iframe allowfullscreen=\"true\" allowtransparency=\"true\" data-google-container-id=\"a!1\" data-google-query-id=\"CMGdtvj_r-kCFclsfgodA00Fng\" data-load-complete=\"true\" frameborder=\"0\" height=\"90\" hspace=\"0\" id=\"aswift_0\" marginheight=\"0\" marginwidth=\"0\" name=\"aswift_0\" sandbox=\"allow-forms allow-pointer-lock allow-popups allow-popups-to-escape-sandbox allow-same-origin allow-scripts allow-top-navigation-by-user-activation\" scrolling=\"no\" src=\"https://googleads.g.doubleclick.net/pagead/ads?client=ca-pub-5668297076217155&amp;output=html&amp;h=90&amp;twa=1&amp;slotname=5479771053&amp;adk=2645395127&amp;adf=1414646361&amp;w=580&amp;fwrn=4&amp;fwrnh=100&amp;lmt=1589344041&amp;guci=2.2.0.0.2.2.0.0&amp;format=580x90&amp;url=https%3A%2F%2Fheavens-above.com%2FSatInfo.aspx%3Fsatid%3D44913%26lat%3D0%26lng%3D0%26loc%3DUnspecified%26alt%3D0%26tz%3DUCT&amp;flash=0&amp;fwr=0&amp;rh=90&amp;rw=580&amp;wgl=1&amp;dt=1589344041159&amp;bpp=16&amp;bdt=16&amp;idt=26&amp;shv=r20200506&amp;cbv=r20190131&amp;ptt=5&amp;saldr=sa&amp;abxe=1&amp;cookie=ID%3D075048d1de42e348%3AT%3D1589343632%3AS%3DALNI_MYg8gc_auyfIGQYe9YlUYTPtInHrw&amp;crv=1&amp;correlator=494767770240&amp;frm=20&amp;pv=2&amp;ga_vid=1447612736.1589344041&amp;ga_sid=1589344041&amp;ga_hid=1195295586&amp;ga_fc=0&amp;iag=0&amp;icsg=2106&amp;dssz=9&amp;mdo=0&amp;mso=0&amp;u_tz=-420&amp;u_his=6&amp;u_java=0&amp;u_h=1152&amp;u_w=2752&amp;u_ah=1112&amp;u_aw=2752&amp;u_cd=24&amp;u_nplug=3&amp;u_nmime=4&amp;adx=301&amp;ady=16&amp;biw=1348&amp;bih=1006&amp;scr_x=0&amp;scr_y=0&amp;eid=21066085&amp;oid=3&amp;pvsid=2703437440593084&amp;pem=546&amp;rx=0&amp;eae=0&amp;fc=640&amp;brdim=9%2C9%2C9%2C9%2C2752%2C0%2C1363%2C1094%2C1348%2C1006&amp;vis=1&amp;rsz=%7C%7Ce%7C&amp;abl=CS&amp;pfx=0&amp;fu=8208&amp;bc=31&amp;ifi=1&amp;uci=a!1&amp;fsb=1&amp;xpc=6LB1omHszC&amp;p=https%3A//heavens-above.com&amp;dtd=38\" style=\"left:0;position:absolute;top:0;border:0;width:580px;height:90px;\" vspace=\"0\" width=\"580\"></iframe></ins></ins>\n",
       "</td>\n",
       "<td>\n",
       "<table class=\"userTable\">\n",
       "<tbody><tr>\n",
       "<td>\n",
       "\t\t\t\t\t\t\tUser:\n",
       "\t\t\t\t\t\t</td>\n",
       "<td>\n",
       "\t\t\t\t\t\t\tanonymous   <a href=\"/login.aspx\">Login</a>\n",
       "</td>\n",
       "</tr>\n",
       "<tr class=\"lightrow\">\n",
       "<td>\n",
       "\t\t\t\t\t\t\tLocation:\n",
       "\t\t\t\t\t\t</td>\n",
       "<td>\n",
       "<a href=\"SelectLocation.aspx?lat=0&amp;lng=0&amp;loc=Unspecified&amp;alt=0&amp;tz=UCT\" id=\"ctl00_linkObservationSite\">Unspecified</a>\n",
       "</td>\n",
       "</tr>\n",
       "<tr class=\"lightrow\">\n",
       "<td align=\"center\" colspan=\"2\">\n",
       "\t\t\t\t\t\t\t(<a href=\"SelectLocation.aspx?lat=0&amp;lng=0&amp;loc=Unspecified&amp;alt=0&amp;tz=UCT\" id=\"ctl00_linkLatLong\">0.0000°N, 0.0000°E</a>)\n",
       "\t\t\t\t\t\t</td>\n",
       "</tr>\n",
       "<tr>\n",
       "<td>\n",
       "\t\t\t\t\t\t\tTime:\n",
       "\t\t\t\t\t\t</td>\n",
       "<td>\n",
       "<span id=\"spanTime\">04:27:23</span>\n",
       "</td>\n",
       "</tr>\n",
       "<tr>\n",
       "<td align=\"center\" colspan=\"2\">\n",
       "\t\t\t\t\t\t\t(UTC<span id=\"ctl00_lblTZ\">+00:00</span>)\n",
       "\t\t\t\t\t\t</td>\n",
       "</tr>\n",
       "<tr class=\"lightrow\">\n",
       "<td>\n",
       "\t\t\t\t\t\t\tLanguage:\n",
       "\t\t\t\t\t\t</td>\n",
       "<td>\n",
       "<select id=\"ctl00_ddlCulture\" name=\"ctl00$ddlCulture\" onchange=\"javascript:setTimeout('__doPostBack(\\'ctl00$ddlCulture\\',\\'\\')', 0)\">\n",
       "<option value=\"ar\">العربية</option>\n",
       "<option value=\"ca\">Català</option>\n",
       "<option value=\"cs\">Čeština</option>\n",
       "<option value=\"da\">Dansk</option>\n",
       "<option value=\"de\">Deutsch</option>\n",
       "<option value=\"el\">Ελληνικά</option>\n",
       "<option selected=\"selected\" value=\"en\">English</option>\n",
       "<option value=\"eo\">Esperanto</option>\n",
       "<option value=\"es\">Español</option>\n",
       "<option value=\"eu\">Euskara</option>\n",
       "<option value=\"fi\">Suomi</option>\n",
       "<option value=\"fr\">Français</option>\n",
       "<option value=\"gl\">Galego</option>\n",
       "<option value=\"he\">עברית</option>\n",
       "<option value=\"hr\">Hrvatski</option>\n",
       "<option value=\"hu\">Magyar</option>\n",
       "<option value=\"it\">Italiano</option>\n",
       "<option value=\"ja\">日本語</option>\n",
       "<option value=\"lt\">Lietuvių</option>\n",
       "<option value=\"nl\">Nederlands</option>\n",
       "<option value=\"pl\">Polski</option>\n",
       "<option value=\"pt\">Português brasileiro</option>\n",
       "<option value=\"pt-PT\">Português de Portugal</option>\n",
       "<option value=\"ro\">Română</option>\n",
       "<option value=\"ru\">Русский</option>\n",
       "<option value=\"sk\">Slovenčina</option>\n",
       "<option value=\"sl\">Slovenščina</option>\n",
       "<option value=\"sv\">Svenska</option>\n",
       "<option value=\"ta\">தமிழ்</option>\n",
       "<option value=\"th\">ไทย</option>\n",
       "<option value=\"tr\">Türkçe</option>\n",
       "<option value=\"uk\">Українська</option>\n",
       "<option value=\"zh\">简体中文</option>\n",
       "<option value=\"zh-CHT\">繁體中文</option>\n",
       "</select>\n",
       "</td>\n",
       "</tr>\n",
       "</tbody></table>\n",
       "</td>\n",
       "</tr>\n",
       "<tr>\n",
       "<td colspan=\"3\">\n",
       "<hr/>\n",
       "</td>\n",
       "</tr>\n",
       "<tr>\n",
       "<td colspan=\"2\" valign=\"top\">\n",
       "<table width=\"100%\">\n",
       "<tbody><tr>\n",
       "<td align=\"left\">\n",
       "<span class=\"pagehead\" id=\"ctl00_lblTitle\">COSMOS 2491 DEB - Satellite Information</span>\n",
       "</td>\n",
       "<td align=\"right\" class=\"navbar\">\n",
       "<span id=\"ctl00_lblNavBar\"><a href=\"/?lat=0&amp;lng=0&amp;loc=Unspecified&amp;alt=0&amp;tz=UCT\" title=\"Go to home page\">Home</a> | <a href=\"/PassSummary.aspx?satid=44913&amp;lat=0&amp;lng=0&amp;loc=Unspecified&amp;alt=0&amp;tz=UCT\" title=\"Show visible passes\">Passes</a> | <a href=\"/orbit.aspx?satid=44913&amp;lat=0&amp;lng=0&amp;loc=Unspecified&amp;alt=0&amp;tz=UCT\" title=\"Show orbit of this satellite\">Orbit</a> | <a href=\"/CloseEncounters.aspx?satid=44913&amp;lat=0&amp;lng=0&amp;loc=Unspecified&amp;alt=0&amp;tz=UCT\" title=\"Show upcoming close encounters with other orbiting objects\">Close encounters</a></span>\n",
       "</td>\n",
       "</tr>\n",
       "</tbody></table>\n",
       "<p>\n",
       "</p><table>\n",
       "<tbody><tr>\n",
       "<td valign=\"top\">\n",
       "<div style=\"width:750px\">\n",
       "<strong>\n",
       "\t\t\t\t\tDesignation</strong>\n",
       "<span id=\"ctl00_cph1_lblAlternateNames\"></span><table>\n",
       "<tbody><tr>\n",
       "<td>\n",
       "\t\t\t\t\t\t\tSpacetrack catalog number\n",
       "\t\t\t\t\t\t</td>\n",
       "<td>\n",
       "<span id=\"ctl00_cph1_lblSatID\">44913</span>\n",
       "</td>\n",
       "</tr>\n",
       "<tr>\n",
       "<td>\n",
       "\t\t\t\t\t\t\tCOSPAR ID\n",
       "\t\t\t\t\t\t</td>\n",
       "<td>\n",
       "<span id=\"ctl00_cph1_lblIntDesig\">2013-076-G  </span>\n",
       "</td>\n",
       "</tr>\n",
       "<tr>\n",
       "<td>\n",
       "\t\t\t\t\t\t\tName in Spacetrack catalog\n",
       "\t\t\t\t\t\t</td>\n",
       "<td>\n",
       "<span id=\"ctl00_cph1_lblOIGName\">COSMOS 2491 DEB</span>\n",
       "</td>\n",
       "</tr>\n",
       "</tbody></table>\n",
       "<p>\n",
       "<strong>\n",
       "\t\t\t\t\tSatellite Details</strong>\n",
       "</p><span id=\"ctl00_cph1_lblCategory\"></span><span id=\"ctl00_cph1_lblCountry\"></span><span id=\"ctl00_cph1_lblMass\"></span><span id=\"ctl00_cph1_lblDimensions\"></span><span id=\"ctl00_cph1_lblBrightness\"></span><table>\n",
       "<tbody><tr>\n",
       "<td>\n",
       "\t\t\t\t\t\t\tOrbit\n",
       "\t\t\t\t\t\t</td>\n",
       "<td>\n",
       "<span id=\"ctl00_cph1_lblOrbit\">1,414 x 1,504 km, 82.5°</span>\n",
       "</td>\n",
       "</tr>\n",
       "<tr><td>Category </td><td>unknown </td></tr>\n",
       "<tr><td>Country/organisation of origin </td><td>Russia</td></tr>\n",
       "<tr><td>Intrinsic brightness (Magnitude) </td><td>?</td></tr>\n",
       "</tbody></table>\n",
       "<p>\n",
       "<strong>\n",
       "\t\t\t\t\tLaunch</strong>\n",
       "</p><span id=\"ctl00_cph1_lblLaunchSite\"></span><span id=\"ctl00_cph1_lblLaunchVehicle\"></span><table>\n",
       "<tbody><tr>\n",
       "<td>\n",
       "\t\t\t\t\t\t\tDate\n",
       "\t\t\t\t\t\t\t(UTC)\n",
       "\t\t\t\t\t\t</td>\n",
       "<td>\n",
       "<span id=\"ctl00_cph1_lblLaunchDate\">25 December 2013 00:31</span>\n",
       "</td>\n",
       "</tr>\n",
       "<tr><td valign=\"top\">Launch site</td><td>Plesetsk, <br/>Russia</td></tr>\n",
       "<tr><td>Launch vehicle </td><td>Rokot</td></tr>\n",
       "</tbody></table>\n",
       "<span id=\"ctl00_cph1_lblDescription\"></span>\n",
       "</div>\n",
       "</td>\n",
       "<td align=\"center\" valign=\"top\">\n",
       "<table>\n",
       "<tbody><tr>\n",
       "<td>\n",
       "</td>\n",
       "</tr>\n",
       "<tr>\n",
       "<td align=\"right\">\n",
       "</td>\n",
       "</tr>\n",
       "</tbody></table>\n",
       "<table>\n",
       "<tbody><tr>\n",
       "<td>\n",
       "<img alt=\"View from orbit pole\" id=\"ctl00_cph1_imgOrbit\" src=\"orbitdisplay.aspx?icon=default&amp;width=250&amp;height=250&amp;mode=n&amp;satid=44913\" style=\"height:250px;width:250px;border-width:0px;\"/>\n",
       "</td>\n",
       "</tr>\n",
       "<tr>\n",
       "<td align=\"center\">\n",
       "<span id=\"ctl00_cph1_lblOrbitPictureCaption\"></span>\n",
       "</td>\n",
       "</tr>\n",
       "</tbody></table>\n",
       "</td>\n",
       "</tr>\n",
       "</tbody></table>\n",
       "\n",
       "\t\t\t\t \n",
       "\t\t\t\t<p>\n",
       "</p><table style=\"border-top: 1px solid black;\">\n",
       "<tbody><tr>\n",
       "<td style=\"width: 100px\" valign=\"top\">\n",
       "<a href=\"Donate2.aspx\" id=\"ctl00_linkDonate\" title=\"Make a donation to help with the running costs of Heavens-Above\"><img alt=\"\" src=\"//www.heavens-above.com/images/btn_donate_SM.gif\" style=\"border-width:0px;\" title=\"Make a donation to help with the running costs of Heavens-Above\"/></a>\n",
       "</td>\n",
       "<td valign=\"top\">\n",
       "<div class=\"footer\">\n",
       "\t\t\t\t\t\t\t\tDeveloped and maintained by <a href=\"mailto:Chris.Peat@heavens-above.com\">Chris Peat</a>, Heavens-Above GmbH. Please read the <a href=\"faq.aspx\">FAQ</a> before sending e-mail. <a href=\"Imprint.aspx\">Imprint</a>.\n",
       "\t\t\t\t\t\t\t\t</div>\n",
       "</td>\n",
       "<td>\n",
       "<a href=\"http://www.dlr.de/rb/en/\" target=\"_blank\">\n",
       "<img align=\"left\" alt=\"DLR\" border=\"0\" src=\"//www.heavens-above.com/images/dlrhost.gif\"/></a>\n",
       "</td>\n",
       "</tr>\n",
       "</tbody></table>\n",
       "</td>\n",
       "<td rowspan=\"1\" valign=\"top\">\n",
       "<p>\n",
       "<script async=\"\" src=\"//pagead2.googlesyndication.com/pagead/js/adsbygoogle.js\"></script>\n",
       "<ins class=\"adsbygoogle\" data-ad-client=\"ca-pub-5668297076217155\" data-ad-slot=\"7480853211\" data-adsbygoogle-status=\"done\" style=\"display: inline-block; width: 319px; height: 280px;\"><ins id=\"aswift_1_expand\" style=\"display:inline-table;border:none;height:280px;margin:0;padding:0;position:relative;visibility:visible;width:319px;background-color:transparent;\"><ins id=\"aswift_1_anchor\" style=\"display:block;border:none;height:280px;margin:0;padding:0;position:relative;visibility:visible;width:319px;background-color:transparent;\"><iframe allowfullscreen=\"true\" allowtransparency=\"true\" data-google-container-id=\"a!2\" data-google-query-id=\"CKjcufj_r-kCFVG3fgod8lADrw\" data-load-complete=\"true\" frameborder=\"0\" height=\"280\" hspace=\"0\" id=\"aswift_1\" marginheight=\"0\" marginwidth=\"0\" name=\"aswift_1\" sandbox=\"allow-forms allow-pointer-lock allow-popups allow-popups-to-escape-sandbox allow-same-origin allow-scripts allow-top-navigation-by-user-activation\" scrolling=\"no\" src=\"https://googleads.g.doubleclick.net/pagead/ads?client=ca-pub-5668297076217155&amp;output=html&amp;h=280&amp;twa=1&amp;slotname=7480853211&amp;adk=3984507713&amp;adf=2106470857&amp;w=319&amp;fwrn=4&amp;fwrnh=100&amp;lmt=1589344041&amp;psa=1&amp;guci=2.2.0.0.2.2.0.0&amp;format=319x280&amp;url=https%3A%2F%2Fheavens-above.com%2FSatInfo.aspx%3Fsatid%3D44913%26lat%3D0%26lng%3D0%26loc%3DUnspecified%26alt%3D0%26tz%3DUCT&amp;flash=0&amp;fwr=0&amp;rh=280&amp;rw=319&amp;wgl=1&amp;dt=1589344041223&amp;bpp=3&amp;bdt=80&amp;idt=-M&amp;shv=r20200506&amp;cbv=r20190131&amp;ptt=9&amp;saldr=aa&amp;abxe=1&amp;cookie=ID%3D075048d1de42e348%3AT%3D1589343632%3AS%3DALNI_MYg8gc_auyfIGQYe9YlUYTPtInHrw&amp;crv=1&amp;prev_fmts=580x90&amp;correlator=494767770240&amp;frm=20&amp;pv=1&amp;ga_vid=1447612736.1589344041&amp;ga_sid=1589344041&amp;ga_hid=1195295586&amp;ga_fc=0&amp;iag=0&amp;icsg=659112&amp;dssz=15&amp;mdo=0&amp;mso=0&amp;u_tz=-420&amp;u_his=6&amp;u_java=0&amp;u_h=1152&amp;u_w=2752&amp;u_ah=1112&amp;u_aw=2752&amp;u_cd=24&amp;u_nplug=3&amp;u_nmime=4&amp;adx=1031&amp;ady=147&amp;biw=1348&amp;bih=946&amp;scr_x=0&amp;scr_y=0&amp;eid=21066085&amp;oid=3&amp;pvsid=2703437440593084&amp;pem=546&amp;rx=0&amp;eae=0&amp;fc=640&amp;brdim=9%2C9%2C9%2C9%2C2752%2C0%2C1363%2C1094%2C1348%2C962&amp;vis=1&amp;rsz=%7C%7CEe%7C&amp;abl=CS&amp;pfx=0&amp;fu=9232&amp;bc=31&amp;ifi=2&amp;uci=a!2&amp;fsb=1&amp;xpc=5ISI0kZxDz&amp;p=https%3A//heavens-above.com&amp;dtd=6\" style=\"left:0;position:absolute;top:0;border:0;width:319px;height:280px;\" vspace=\"0\" width=\"319\"></iframe></ins></ins></ins>\n",
       "<script>(adsbygoogle = window.adsbygoogle || []).push({});</script>\n",
       "</p><p>\n",
       "<script async=\"\" src=\"//pagead2.googlesyndication.com/pagead/js/adsbygoogle.js\"></script>\n",
       "<ins class=\"adsbygoogle\" data-ad-client=\"ca-pub-5668297076217155\" data-ad-slot=\"7480853211\" data-adsbygoogle-status=\"done\" style=\"display: inline-block; width: 319px; height: 280px;\"><ins id=\"aswift_2_expand\" style=\"display:inline-table;border:none;height:280px;margin:0;padding:0;position:relative;visibility:visible;width:319px;background-color:transparent;\"><ins id=\"aswift_2_anchor\" style=\"display:block;border:none;height:280px;margin:0;padding:0;position:relative;visibility:visible;width:319px;background-color:transparent;\"><iframe allowfullscreen=\"true\" allowtransparency=\"true\" data-google-container-id=\"a!3\" data-google-query-id=\"CJiewfj_r-kCFQEkfwodNNgOpg\" data-load-complete=\"true\" frameborder=\"0\" height=\"280\" hspace=\"0\" id=\"aswift_2\" marginheight=\"0\" marginwidth=\"0\" name=\"aswift_2\" sandbox=\"allow-forms allow-pointer-lock allow-popups allow-popups-to-escape-sandbox allow-same-origin allow-scripts allow-top-navigation-by-user-activation\" scrolling=\"no\" src=\"https://googleads.g.doubleclick.net/pagead/ads?client=ca-pub-5668297076217155&amp;output=html&amp;h=280&amp;twa=1&amp;slotname=7480853211&amp;adk=3984507713&amp;adf=1326060507&amp;w=319&amp;fwrn=4&amp;fwrnh=100&amp;lmt=1589344041&amp;psa=1&amp;guci=2.2.0.0.2.2.0.0&amp;format=319x280&amp;url=https%3A%2F%2Fheavens-above.com%2FSatInfo.aspx%3Fsatid%3D44913%26lat%3D0%26lng%3D0%26loc%3DUnspecified%26alt%3D0%26tz%3DUCT&amp;flash=0&amp;fwr=0&amp;rh=280&amp;rw=319&amp;wgl=1&amp;dt=1589344041223&amp;bpp=1&amp;bdt=80&amp;idt=1&amp;shv=r20200506&amp;cbv=r20190131&amp;ptt=9&amp;saldr=aa&amp;abxe=1&amp;cookie=ID%3D075048d1de42e348%3AT%3D1589343632%3AS%3DALNI_MYg8gc_auyfIGQYe9YlUYTPtInHrw&amp;crv=1&amp;prev_fmts=580x90%2C319x280&amp;correlator=494767770240&amp;frm=20&amp;pv=1&amp;ga_vid=1447612736.1589344041&amp;ga_sid=1589344041&amp;ga_hid=1195295586&amp;ga_fc=0&amp;iag=0&amp;icsg=659112&amp;dssz=15&amp;mdo=0&amp;mso=0&amp;u_tz=-420&amp;u_his=6&amp;u_java=0&amp;u_h=1152&amp;u_w=2752&amp;u_ah=1112&amp;u_aw=2752&amp;u_cd=24&amp;u_nplug=3&amp;u_nmime=4&amp;adx=1031&amp;ady=443&amp;biw=1348&amp;bih=946&amp;scr_x=0&amp;scr_y=0&amp;eid=21066085&amp;oid=3&amp;pvsid=2703437440593084&amp;pem=546&amp;rx=0&amp;eae=0&amp;fc=640&amp;brdim=9%2C9%2C9%2C9%2C2752%2C0%2C1363%2C1094%2C1348%2C962&amp;vis=1&amp;rsz=%7C%7CEe%7C&amp;abl=CS&amp;pfx=0&amp;fu=9232&amp;bc=31&amp;ifi=3&amp;uci=a!3&amp;fsb=1&amp;xpc=LILmBkKpok&amp;p=https%3A//heavens-above.com&amp;dtd=11\" style=\"left:0;position:absolute;top:0;border:0;width:319px;height:280px;\" vspace=\"0\" width=\"319\"></iframe></ins></ins></ins>\n",
       "<script>(adsbygoogle = window.adsbygoogle || []).push({});</script>\n",
       "</p></td>\n",
       "</tr>\n",
       "</tbody></table>\n",
       "</form>\n",
       "<script async=\"\" defer=\"\" src=\"//tags.onscroll.com/608ff96c-526d-43c0-92d3-5faa546bc80e/tag.min.js\"></script>\n",
       "<iframe id=\"google_osd_static_frame_8087620622844\" name=\"google_osd_static_frame\" style=\"display: none; width: 0px; height: 0px;\"></iframe><ins class=\"adsbygoogle adsbygoogle-noablate\" data-adsbygoogle-status=\"done\" style=\"display: none !important;\"><ins id=\"aswift_3_expand\" style=\"display:inline-table;border:none;height:0px;margin:0;padding:0;position:relative;visibility:visible;width:0px;background-color:transparent;\"><ins id=\"aswift_3_anchor\" style=\"display:block;border:none;height:0px;margin:0;padding:0;position:relative;visibility:visible;width:0px;background-color:transparent;\"><iframe allowfullscreen=\"true\" allowtransparency=\"true\" data-google-container-id=\"a!3\" data-load-complete=\"true\" frameborder=\"0\" hspace=\"0\" id=\"aswift_3\" marginheight=\"0\" marginwidth=\"0\" name=\"aswift_3\" sandbox=\"allow-forms allow-pointer-lock allow-popups allow-popups-to-escape-sandbox allow-same-origin allow-scripts allow-top-navigation-by-user-activation\" scrolling=\"no\" src=\"https://googleads.g.doubleclick.net/pagead/ads?client=ca-pub-5668297076217155&amp;output=html&amp;adk=1812271804&amp;adf=3025194257&amp;lmt=1589344042&amp;plat=1%3A32776%2C2%3A32776%2C8%3A32776%2C9%3A32776%2C16%3A8388608%2C17%3A32%2C24%3A32%2C25%3A32%2C30%3A1081344%2C32%3A32%2C40%3A32&amp;guci=2.2.0.0.2.2.0.0&amp;format=0x0&amp;url=https%3A%2F%2Fheavens-above.com%2FSatInfo.aspx%3Fsatid%3D44913%26lat%3D0%26lng%3D0%26loc%3DUnspecified%26alt%3D0%26tz%3DUCT&amp;ea=0&amp;flash=0&amp;pra=7&amp;wgl=1&amp;adsid=NT&amp;dt=1589344042935&amp;bpp=1&amp;bdt=1792&amp;idt=1&amp;shv=r20200506&amp;cbv=r20190131&amp;ptt=9&amp;saldr=aa&amp;abxe=1&amp;cookie=ID%3D075048d1de42e348%3AT%3D1589343632%3AS%3DALNI_MYg8gc_auyfIGQYe9YlUYTPtInHrw&amp;crv=1&amp;prev_fmts=580x90%2C319x280%2C319x280&amp;nras=1&amp;correlator=494767770240&amp;frm=20&amp;pv=1&amp;ga_vid=1447612736.1589344041&amp;ga_sid=1589344041&amp;ga_hid=1195295586&amp;ga_fc=0&amp;iag=0&amp;icsg=674758824&amp;dssz=20&amp;mdo=0&amp;mso=0&amp;u_tz=-420&amp;u_his=6&amp;u_java=0&amp;u_h=1152&amp;u_w=2752&amp;u_ah=1112&amp;u_aw=2752&amp;u_cd=24&amp;u_nplug=3&amp;u_nmime=4&amp;adx=-12245933&amp;ady=-12245933&amp;biw=1348&amp;bih=946&amp;scr_x=0&amp;scr_y=0&amp;eid=21066085&amp;oid=3&amp;psts=AGkb-H92Y2U2Glzi42QApXd1ozvkj-9aNVEpXVbR_3zBzOoCKoij7A0HSz8KB9vUTg%2CAGkb-H92Y2U2Glzi42QApXd1ozvkj-9aNVEpXVbR_3zBzOoCKoij7A0HSz8KB9vUTg%2CAGkb-H92Y2U2Glzi42QApXd1ozvkj-9aNVEpXVbR_3zBzOoCKoij7A0HSz8KB9vUTg&amp;pvsid=2703437440593084&amp;pem=546&amp;rx=0&amp;eae=2&amp;fc=896&amp;brdim=9%2C9%2C9%2C9%2C2752%2C0%2C1363%2C1094%2C1348%2C962&amp;vis=1&amp;rsz=%7C%7Cs%7C&amp;abl=NS&amp;fu=9232&amp;bc=31&amp;ifi=3&amp;uci=a!3&amp;fsb=1&amp;dtd=8\" style=\"left:0;position:absolute;top:0;border:0;width:undefinedpx;height:undefinedpx;\" vspace=\"0\"></iframe></ins></ins></ins><iframe height=\"0\" src=\"https://tpc.googlesyndication.com/sodar/sodar2/209/runner.html\" style=\"display: none;\" width=\"0\"></iframe></body><iframe data-ad-client=\"ca-pub-5668297076217155\" id=\"google_esf\" name=\"google_esf\" src=\"https://googleads.g.doubleclick.net/pagead/html/r20200506/r20190131/zrt_lookup.html#\" style=\"display: none;\"></iframe></html>"
      ]
     },
     "execution_count": 54,
     "metadata": {},
     "output_type": "execute_result"
    }
   ],
   "source": [
    "#current_launch = pd.DataFrame({\"Satellite Name\": header, \"Launch Date\": date}, index=[0])\n",
    "#launches = launches.append(current_launch)\n",
    "launches\n",
    "soup"
   ]
  },
  {
   "cell_type": "code",
   "execution_count": 30,
   "metadata": {},
   "outputs": [],
   "source": [
    "launches_output_file = \"launches.csv\"\n",
    "launches.to_csv(launches_output_file)"
   ]
  },
  {
   "cell_type": "code",
   "execution_count": 31,
   "metadata": {},
   "outputs": [
    {
     "data": {
      "text/html": [
       "<div>\n",
       "<style scoped>\n",
       "    .dataframe tbody tr th:only-of-type {\n",
       "        vertical-align: middle;\n",
       "    }\n",
       "\n",
       "    .dataframe tbody tr th {\n",
       "        vertical-align: top;\n",
       "    }\n",
       "\n",
       "    .dataframe thead th {\n",
       "        text-align: right;\n",
       "    }\n",
       "</style>\n",
       "<table border=\"1\" class=\"dataframe\">\n",
       "  <thead>\n",
       "    <tr style=\"text-align: right;\">\n",
       "      <th></th>\n",
       "      <th>Unnamed: 0</th>\n",
       "      <th>Satellite Name</th>\n",
       "      <th>Launch Date</th>\n",
       "    </tr>\n",
       "  </thead>\n",
       "  <tbody>\n",
       "    <tr>\n",
       "      <th>0</th>\n",
       "      <td>44910</td>\n",
       "      <td>SJ-20 - Satellite Information</td>\n",
       "      <td>27 December 2019 12:45</td>\n",
       "    </tr>\n",
       "    <tr>\n",
       "      <th>1</th>\n",
       "      <td>44911</td>\n",
       "      <td>CZ-5 R/B - Satellite Information</td>\n",
       "      <td>27 December 2019 12:45</td>\n",
       "    </tr>\n",
       "    <tr>\n",
       "      <th>2</th>\n",
       "      <td>44912</td>\n",
       "      <td>COSMOS 2491 DEB - Satellite Information</td>\n",
       "      <td>25 December 2013 00:31</td>\n",
       "    </tr>\n",
       "    <tr>\n",
       "      <th>3</th>\n",
       "      <td>44913</td>\n",
       "      <td>COSMOS 2491 DEB - Satellite Information</td>\n",
       "      <td>25 December 2013 00:31</td>\n",
       "    </tr>\n",
       "  </tbody>\n",
       "</table>\n",
       "</div>"
      ],
      "text/plain": [
       "   Unnamed: 0                           Satellite Name             Launch Date\n",
       "0       44910            SJ-20 - Satellite Information  27 December 2019 12:45\n",
       "1       44911         CZ-5 R/B - Satellite Information  27 December 2019 12:45\n",
       "2       44912  COSMOS 2491 DEB - Satellite Information  25 December 2013 00:31\n",
       "3       44913  COSMOS 2491 DEB - Satellite Information  25 December 2013 00:31"
      ]
     },
     "execution_count": 31,
     "metadata": {},
     "output_type": "execute_result"
    }
   ],
   "source": [
    "launches_read = pd.read_csv(launches_output_file)\n",
    "launches_read"
   ]
  },
  {
   "cell_type": "code",
   "execution_count": 32,
   "metadata": {},
   "outputs": [],
   "source": [
    "launches_html = pd.read_html()"
   ]
  },
  {
   "cell_type": "code",
   "execution_count": 53,
   "metadata": {},
   "outputs": [
    {
     "data": {
      "text/plain": [
       "[                                                   0  \\\n",
       " 0                                                NaN   \n",
       " 1                                                NaN   \n",
       " 2  COSMOS 2491 DEB - Satellite Information  Home ...   \n",
       " \n",
       "                                                    1  \\\n",
       " 0  <!-- google_ad_client = \"ca-pub-56682970762171...   \n",
       " 1                                                NaN   \n",
       " 2  COSMOS 2491 DEB - Satellite Information  Home ...   \n",
       " \n",
       "                                                    2  \n",
       " 0  User:  anonymous Login  Location:  Unspecified...  \n",
       " 1                                                NaN  \n",
       " 2  (adsbygoogle = window.adsbygoogle || []).push(...  ,\n",
       "                         0                                                  1\n",
       " 0                   User:                                    anonymous Login\n",
       " 1               Location:                                        Unspecified\n",
       " 2  (0.0000Â°N, 0.0000Â°E)                             (0.0000Â°N, 0.0000Â°E)\n",
       " 3                   Time:                                           04:27:35\n",
       " 4             (UTC+00:00)                                        (UTC+00:00)\n",
       " 5               Language:  Ø§ÙØ¹Ø±Ø¨ÙØ© \\tCatalà \\tÄeÅ¡tina \\tDansk \\t...,\n",
       "                                          0  \\\n",
       " 0  COSMOS 2491 DEB - Satellite Information   \n",
       " \n",
       "                                           1  \n",
       " 0  Home | Passes | Orbit | Close encounters  ,\n",
       "                                                    0   1\n",
       " 0  Designation  Spacetrack catalog number  44913 ... NaN,\n",
       "                             0                1\n",
       " 0   Spacetrack catalog number            44913\n",
       " 1                   COSPAR ID       2013-076-G\n",
       " 2  Name in Spacetrack catalog  COSMOS 2491 DEB,\n",
       "        0                         1\n",
       " 0  Orbit  1,414 x 1,504 km, 82.5Â°,\n",
       "              0                       1\n",
       " 0  Date  (UTC)  25 December 2013 00:31,\n",
       "     0                                                  1   2\n",
       " 0 NaN  Developed and maintained by Chris Peat, Heaven... NaN]"
      ]
     },
     "execution_count": 53,
     "metadata": {},
     "output_type": "execute_result"
    }
   ],
   "source": []
  },
  {
   "cell_type": "code",
   "execution_count": 34,
   "metadata": {},
   "outputs": [
    {
     "ename": "TypeError",
     "evalue": "'NoneType' object is not callable",
     "output_type": "error",
     "traceback": [
      "\u001b[1;31m---------------------------------------------------------------------------\u001b[0m",
      "\u001b[1;31mTypeError\u001b[0m                                 Traceback (most recent call last)",
      "\u001b[1;32m<ipython-input-34-9be55fb5d6d5>\u001b[0m in \u001b[0;36m<module>\u001b[1;34m\u001b[0m\n\u001b[1;32m----> 1\u001b[1;33m \u001b[0msoup\u001b[0m\u001b[1;33m.\u001b[0m\u001b[0mfind_table\u001b[0m\u001b[1;33m(\u001b[0m\u001b[1;33m)\u001b[0m\u001b[1;33m\u001b[0m\u001b[1;33m\u001b[0m\u001b[0m\n\u001b[0m",
      "\u001b[1;31mTypeError\u001b[0m: 'NoneType' object is not callable"
     ]
    }
   ],
   "source": []
  },
  {
   "cell_type": "code",
   "execution_count": null,
   "metadata": {},
   "outputs": [],
   "source": []
  }
 ],
 "metadata": {
  "kernelspec": {
   "display_name": "Python 3",
   "language": "python",
   "name": "python3"
  },
  "language_info": {
   "codemirror_mode": {
    "name": "ipython",
    "version": 3
   },
   "file_extension": ".py",
   "mimetype": "text/x-python",
   "name": "python",
   "nbconvert_exporter": "python",
   "pygments_lexer": "ipython3",
   "version": "3.8.1"
  }
 },
 "nbformat": 4,
 "nbformat_minor": 4
}
