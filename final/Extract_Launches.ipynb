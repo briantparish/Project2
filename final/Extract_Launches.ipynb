{
 "cells": [
  {
   "cell_type": "markdown",
   "metadata": {},
   "source": [
    "# Merging Historical Satellite Launches with Weather"
   ]
  },
  {
   "cell_type": "code",
   "execution_count": 1,
   "metadata": {},
   "outputs": [],
   "source": [
    "import pandas as pd\n",
    "from splinter import Browser\n",
    "from bs4 import BeautifulSoup\n",
    "import time \n",
    "import re\n",
    "import lxml"
   ]
  },
  {
   "cell_type": "markdown",
   "metadata": {},
   "source": [
    "# Scrape the heavens-above.com for satellite information"
   ]
  },
  {
   "cell_type": "code",
   "execution_count": 2,
   "metadata": {},
   "outputs": [
    {
     "data": {
      "text/plain": [
       "'https://heavens-above.com/SatInfo.aspx?satid=44914&lat=0&lng=0&loc=Unspecified&alt=0&tz=UCT'"
      ]
     },
     "execution_count": 2,
     "metadata": {},
     "output_type": "execute_result"
    }
   ],
   "source": [
    "url1 = \"https://heavens-above.com/SatInfo.aspx?satid=\"\n",
    "url2 = \"&lat=0&lng=0&loc=Unspecified&alt=0&tz=UCT\"\n",
    "\n",
    "url = url1 + str(satid_latest) + url2\n",
    "url"
   ]
  },
  {
   "cell_type": "code",
   "execution_count": 3,
   "metadata": {},
   "outputs": [],
   "source": [
    "def init_browser():\n",
    "    # @NOTE: Replace the path with your actual path to the chromedriver\n",
    "    executable_path = {\"executable_path\": \"C:\\chromedriver\\chromedriver.exe\"}\n",
    "    return Browser(\"chrome\", **executable_path, headless=False)\n",
    "\n",
    "browser = init_browser()\n",
    "launches = {}"
   ]
  },
  {
   "cell_type": "code",
   "execution_count": 4,
   "metadata": {},
   "outputs": [],
   "source": [
    "browser.visit(url)\n",
    "html = browser.html\n",
    "soup = BeautifulSoup(html, \"html.parser\")"
   ]
  },
  {
   "cell_type": "code",
   "execution_count": 6,
   "metadata": {},
   "outputs": [
    {
     "data": {
      "text/plain": [
       "'STARLINK-1073 - Satellite Information'"
      ]
     },
     "execution_count": 6,
     "metadata": {},
     "output_type": "execute_result"
    }
   ],
   "source": [
    "soup.find(\"span\", class_= \"pagehead\").get_text()"
   ]
  },
  {
   "cell_type": "code",
   "execution_count": 7,
   "metadata": {},
   "outputs": [
    {
     "data": {
      "text/plain": [
       "'07 January 2020 02:19'"
      ]
     },
     "execution_count": 7,
     "metadata": {},
     "output_type": "execute_result"
    }
   ],
   "source": [
    "soup.find(\"span\", id=\"ctl00_cph1_lblLaunchDate\").get_text()"
   ]
  },
  {
   "cell_type": "code",
   "execution_count": 9,
   "metadata": {},
   "outputs": [],
   "source": [
    "for x in range(44800, 44914):\n",
    "    try:\n",
    "        url = url1 + str(x) + url2\n",
    "        browser.visit(url)\n",
    "        html = browser.html\n",
    "        \n",
    "        time.sleep(3)\n",
    "        \n",
    "        soup = BeautifulSoup(html, \"html.parser\")\n",
    "        \n",
    "        header = soup.find(\"span\", class_=\"pagehead\").get_text()\n",
    "        date = soup.find(\"span\", id=\"ctl00_cph1_lblLaunchDate\").get_text()\n",
    "        table = soup.find_all('table')[6]\n",
    "        site = table.find_all('td')[3].get_text()\n",
    "        \n",
    "        current_launch = pd.DataFrame({\"Satellite Name\": header,\n",
    "                                       \"Launch Date\": date,\n",
    "                                       \"Launch Site\": site}, index=[x])\n",
    "        launches = launches.append(current_launch)\n",
    "    \n",
    "    except:\n",
    "        print(\"Page Not Found\")"
   ]
  },
  {
   "cell_type": "code",
   "execution_count": 35,
   "metadata": {},
   "outputs": [
    {
     "data": {
      "text/html": [
       "<div>\n",
       "<style scoped>\n",
       "    .dataframe tbody tr th:only-of-type {\n",
       "        vertical-align: middle;\n",
       "    }\n",
       "\n",
       "    .dataframe tbody tr th {\n",
       "        vertical-align: top;\n",
       "    }\n",
       "\n",
       "    .dataframe thead th {\n",
       "        text-align: right;\n",
       "    }\n",
       "</style>\n",
       "<table border=\"1\" class=\"dataframe\">\n",
       "  <thead>\n",
       "    <tr style=\"text-align: right;\">\n",
       "      <th></th>\n",
       "      <th>Launch Site</th>\n",
       "      <th>Satellite Name</th>\n",
       "      <th>Launch Date</th>\n",
       "    </tr>\n",
       "  </thead>\n",
       "  <tbody>\n",
       "    <tr>\n",
       "      <th>44913</th>\n",
       "      <td>Plesetsk, Russia</td>\n",
       "      <td>COSMOS 2491 DEB - Satellite Information</td>\n",
       "      <td>25 December 2013 00:31</td>\n",
       "    </tr>\n",
       "  </tbody>\n",
       "</table>\n",
       "</div>"
      ],
      "text/plain": [
       "            Launch Site                           Satellite Name  \\\n",
       "44913  Plesetsk, Russia  COSMOS 2491 DEB - Satellite Information   \n",
       "\n",
       "                  Launch Date  \n",
       "44913  25 December 2013 00:31  "
      ]
     },
     "execution_count": 35,
     "metadata": {},
     "output_type": "execute_result"
    }
   ],
   "source": [
    "launches"
   ]
  },
  {
   "cell_type": "markdown",
   "metadata": {},
   "source": [
    "# Find the date and launch site from tables"
   ]
  },
  {
   "cell_type": "code",
   "execution_count": 11,
   "metadata": {},
   "outputs": [
    {
     "data": {
      "text/plain": [
       "<table>\n",
       "<tbody><tr>\n",
       "<td>\n",
       "\t\t\t\t\t\t\tDate\n",
       "\t\t\t\t\t\t\t(UTC)\n",
       "\t\t\t\t\t\t</td>\n",
       "<td>\n",
       "<span id=\"ctl00_cph1_lblLaunchDate\">25 December 2013 00:31</span>\n",
       "</td>\n",
       "</tr>\n",
       "<tr><td valign=\"top\">Launch site</td><td>Plesetsk, <br/>Russia</td></tr>\n",
       "<tr><td>Launch vehicle </td><td>Rokot</td></tr>\n",
       "</tbody></table>"
      ]
     },
     "execution_count": 11,
     "metadata": {},
     "output_type": "execute_result"
    }
   ],
   "source": [
    "table = soup.find_all('table')[6]\n",
    "table"
   ]
  },
  {
   "cell_type": "code",
   "execution_count": 12,
   "metadata": {},
   "outputs": [
    {
     "data": {
      "text/plain": [
       "'Plesetsk, Russia'"
      ]
     },
     "execution_count": 12,
     "metadata": {},
     "output_type": "execute_result"
    }
   ],
   "source": [
    "site = table.find_all('td')[3].get_text()\n",
    "site"
   ]
  },
  {
   "cell_type": "markdown",
   "metadata": {},
   "source": [
    "# Write launch data to CSV"
   ]
  },
  {
   "cell_type": "code",
   "execution_count": 13,
   "metadata": {},
   "outputs": [],
   "source": [
    "launches_output_file = \"launches.csv\"\n",
    "launches.to_csv(launches_output_file)"
   ]
  },
  {
   "cell_type": "code",
   "execution_count": 30,
   "metadata": {},
   "outputs": [
    {
     "data": {
      "text/html": [
       "<div>\n",
       "<style scoped>\n",
       "    .dataframe tbody tr th:only-of-type {\n",
       "        vertical-align: middle;\n",
       "    }\n",
       "\n",
       "    .dataframe tbody tr th {\n",
       "        vertical-align: top;\n",
       "    }\n",
       "\n",
       "    .dataframe thead th {\n",
       "        text-align: right;\n",
       "    }\n",
       "</style>\n",
       "<table border=\"1\" class=\"dataframe\">\n",
       "  <thead>\n",
       "    <tr style=\"text-align: right;\">\n",
       "      <th></th>\n",
       "      <th>Unnamed: 0</th>\n",
       "      <th>Satellite Name</th>\n",
       "      <th>Launch Date</th>\n",
       "      <th>Launch Site</th>\n",
       "      <th>lat</th>\n",
       "      <th>lon</th>\n",
       "    </tr>\n",
       "  </thead>\n",
       "  <tbody>\n",
       "    <tr>\n",
       "      <th>0</th>\n",
       "      <td>0</td>\n",
       "      <td>COSMOS 2491 DEB</td>\n",
       "      <td>25 December 2013 00:31</td>\n",
       "      <td>Plesetsk, Russia</td>\n",
       "      <td>62.927545</td>\n",
       "      <td>40.575023</td>\n",
       "    </tr>\n",
       "    <tr>\n",
       "      <th>1</th>\n",
       "      <td>1</td>\n",
       "      <td>COSMOS 2491 DEB</td>\n",
       "      <td>25 December 2013 00:31</td>\n",
       "      <td>Plesetsk, Russia</td>\n",
       "      <td>62.927545</td>\n",
       "      <td>40.575023</td>\n",
       "    </tr>\n",
       "    <tr>\n",
       "      <th>2</th>\n",
       "      <td>2</td>\n",
       "      <td>COSMOS 2543</td>\n",
       "      <td>25 November 2019 17:52</td>\n",
       "      <td>Plesetsk, Russia</td>\n",
       "      <td>62.927545</td>\n",
       "      <td>40.575023</td>\n",
       "    </tr>\n",
       "    <tr>\n",
       "      <th>3</th>\n",
       "      <td>3</td>\n",
       "      <td>COSMOS 2543 (GLONASS</td>\n",
       "      <td>11 December 2019 08:54</td>\n",
       "      <td>Plesetsk, Russia</td>\n",
       "      <td>62.927545</td>\n",
       "      <td>40.575023</td>\n",
       "    </tr>\n",
       "    <tr>\n",
       "      <th>4</th>\n",
       "      <td>4</td>\n",
       "      <td>FREGAT R/B</td>\n",
       "      <td>11 December 2019 08:54</td>\n",
       "      <td>Plesetsk, Russia</td>\n",
       "      <td>62.927545</td>\n",
       "      <td>40.575023</td>\n",
       "    </tr>\n",
       "    <tr>\n",
       "      <th>...</th>\n",
       "      <td>...</td>\n",
       "      <td>...</td>\n",
       "      <td>...</td>\n",
       "      <td>...</td>\n",
       "      <td>...</td>\n",
       "      <td>...</td>\n",
       "    </tr>\n",
       "    <tr>\n",
       "      <th>120</th>\n",
       "      <td>120</td>\n",
       "      <td>SJ-7 DEB</td>\n",
       "      <td>05 July 2005 22:40</td>\n",
       "      <td>Jiuquan Satellite Launch Center, China</td>\n",
       "      <td>40.984523</td>\n",
       "      <td>100.191185</td>\n",
       "    </tr>\n",
       "    <tr>\n",
       "      <th>121</th>\n",
       "      <td>121</td>\n",
       "      <td>SJ-7 DEB</td>\n",
       "      <td>05 July 2005 22:40</td>\n",
       "      <td>Jiuquan Satellite Launch Center, China</td>\n",
       "      <td>40.984523</td>\n",
       "      <td>100.191185</td>\n",
       "    </tr>\n",
       "    <tr>\n",
       "      <th>122</th>\n",
       "      <td>122</td>\n",
       "      <td>SJ-7 DEB</td>\n",
       "      <td>05 July 2005 22:40</td>\n",
       "      <td>Jiuquan Satellite Launch Center, China</td>\n",
       "      <td>40.984523</td>\n",
       "      <td>100.191185</td>\n",
       "    </tr>\n",
       "    <tr>\n",
       "      <th>123</th>\n",
       "      <td>123</td>\n",
       "      <td>RS-44</td>\n",
       "      <td>26 December 2019 23:11</td>\n",
       "      <td>Amateur radio</td>\n",
       "      <td>NaN</td>\n",
       "      <td>NaN</td>\n",
       "    </tr>\n",
       "    <tr>\n",
       "      <th>124</th>\n",
       "      <td>124</td>\n",
       "      <td>RS-44</td>\n",
       "      <td>26 December 2019 23:11</td>\n",
       "      <td>Amateur radio</td>\n",
       "      <td>NaN</td>\n",
       "      <td>NaN</td>\n",
       "    </tr>\n",
       "  </tbody>\n",
       "</table>\n",
       "<p>125 rows × 6 columns</p>\n",
       "</div>"
      ],
      "text/plain": [
       "     Unnamed: 0        Satellite Name             Launch Date  \\\n",
       "0             0       COSMOS 2491 DEB  25 December 2013 00:31   \n",
       "1             1       COSMOS 2491 DEB  25 December 2013 00:31   \n",
       "2             2           COSMOS 2543  25 November 2019 17:52   \n",
       "3             3  COSMOS 2543 (GLONASS  11 December 2019 08:54   \n",
       "4             4            FREGAT R/B  11 December 2019 08:54   \n",
       "..          ...                   ...                     ...   \n",
       "120         120              SJ-7 DEB      05 July 2005 22:40   \n",
       "121         121              SJ-7 DEB      05 July 2005 22:40   \n",
       "122         122              SJ-7 DEB      05 July 2005 22:40   \n",
       "123         123                 RS-44  26 December 2019 23:11   \n",
       "124         124                 RS-44  26 December 2019 23:11   \n",
       "\n",
       "                                Launch Site        lat         lon  \n",
       "0                          Plesetsk, Russia  62.927545   40.575023  \n",
       "1                          Plesetsk, Russia  62.927545   40.575023  \n",
       "2                          Plesetsk, Russia  62.927545   40.575023  \n",
       "3                          Plesetsk, Russia  62.927545   40.575023  \n",
       "4                          Plesetsk, Russia  62.927545   40.575023  \n",
       "..                                      ...        ...         ...  \n",
       "120  Jiuquan Satellite Launch Center, China  40.984523  100.191185  \n",
       "121  Jiuquan Satellite Launch Center, China  40.984523  100.191185  \n",
       "122  Jiuquan Satellite Launch Center, China  40.984523  100.191185  \n",
       "123                          Amateur radio         NaN         NaN  \n",
       "124                          Amateur radio         NaN         NaN  \n",
       "\n",
       "[125 rows x 6 columns]"
      ]
     },
     "execution_count": 30,
     "metadata": {},
     "output_type": "execute_result"
    }
   ],
   "source": [
    "launches_read = pd.read_csv(launches_output_file)\n",
    "launches_read"
   ]
  },
  {
   "cell_type": "markdown",
   "metadata": {},
   "source": [
    "# Add coordinates to launch locations"
   ]
  },
  {
   "cell_type": "code",
   "execution_count": 31,
   "metadata": {},
   "outputs": [
    {
     "data": {
      "text/plain": [
       "array(['Plesetsk, Russia', 'Satish Dhawan Space Centre (SHAR), India',\n",
       "       'Taiyuan Space Launch Center, China',\n",
       "       'Cape Canaveral Air Force Station, United States', 'Electron',\n",
       "       'Baikonur Cosmodrome, Kazakhstan',\n",
       "       'Xichang Satellite Launch Center, China',\n",
       "       'Centre Spatial Guyanais , French Guiana',\n",
       "       'Jiuquan Satellite Launch Center, China', 'Amateur radio '],\n",
       "      dtype=object)"
      ]
     },
     "execution_count": 31,
     "metadata": {},
     "output_type": "execute_result"
    }
   ],
   "source": [
    "launches_read[\"Launch Site\"].unique()"
   ]
  },
  {
   "cell_type": "code",
   "execution_count": 18,
   "metadata": {},
   "outputs": [],
   "source": [
    "# To retrieve weather information, we also needed the coordinates of the sites. \n",
    "\n",
    "coords = [{\"Launch Site\": 'Plesetsk, Russia', \"lat\": \"62.927545\", \"lon\": \"40.575023\"},\n",
    "          {\"Launch Site\": 'Satish Dhawan Space Centre (SHAR), India', \"lat\": \"13.733271\", \"lon\": \"80.234446\"},\n",
    "          {\"Launch Site\": 'Taiyuan Space Launch Center, China', \"lat\": \"38.848830\" , \"lon\": \"111.608180\"}, \n",
    "          {\"Launch Site\": 'Baikonur Cosmodrome, Kazakhstan', \"lat\": \"45.964287\", \"lon\": \"63.305522\"},\n",
    "          {\"Launch Site\": 'Cape Canaveral Air Force Station, United States', \"lat\": \"28.491981\", \"lon\": \"-80.580114\"},\n",
    "          {\"Launch Site\": \"Baikonur Cosmodrome, Kazakhstan\",\"lat\" : \"45.9645851\",\"lon\": \"63.3030541\"},\n",
    "          {\"Launch Site\": 'Electron', \"lat\": \"-39.261579\", \"lon\": \"177.864987\"},\n",
    "          {\"Launch Site\": 'Xichang Satellite Launch Center, China', \"lat\": \"27.8907315\", \"lon\": \"102.2434799\"},\n",
    "          {\"Launch Site\": 'Centre Spatial Guyanais , French Guiana', \"lat\": \"4.8862848\", \"lon\": \"-53.0689692\"},\n",
    "          {\"Launch Site\": 'Jiuquan Satellite Launch Center, China', \"lat\": \"40.9845227\", \"lon\": \"100.1911854\"}\n",
    "         ]\n",
    "          "
   ]
  },
  {
   "cell_type": "code",
   "execution_count": 19,
   "metadata": {},
   "outputs": [
    {
     "data": {
      "text/html": [
       "<div>\n",
       "<style scoped>\n",
       "    .dataframe tbody tr th:only-of-type {\n",
       "        vertical-align: middle;\n",
       "    }\n",
       "\n",
       "    .dataframe tbody tr th {\n",
       "        vertical-align: top;\n",
       "    }\n",
       "\n",
       "    .dataframe thead th {\n",
       "        text-align: right;\n",
       "    }\n",
       "</style>\n",
       "<table border=\"1\" class=\"dataframe\">\n",
       "  <thead>\n",
       "    <tr style=\"text-align: right;\">\n",
       "      <th></th>\n",
       "      <th>Launch Site</th>\n",
       "      <th>lat</th>\n",
       "      <th>lon</th>\n",
       "    </tr>\n",
       "  </thead>\n",
       "  <tbody>\n",
       "    <tr>\n",
       "      <th>0</th>\n",
       "      <td>Plesetsk, Russia</td>\n",
       "      <td>62.927545</td>\n",
       "      <td>40.575023</td>\n",
       "    </tr>\n",
       "    <tr>\n",
       "      <th>1</th>\n",
       "      <td>Satish Dhawan Space Centre (SHAR), India</td>\n",
       "      <td>13.733271</td>\n",
       "      <td>80.234446</td>\n",
       "    </tr>\n",
       "    <tr>\n",
       "      <th>2</th>\n",
       "      <td>Taiyuan Space Launch Center, China</td>\n",
       "      <td>38.848830</td>\n",
       "      <td>111.608180</td>\n",
       "    </tr>\n",
       "    <tr>\n",
       "      <th>3</th>\n",
       "      <td>Baikonur Cosmodrome, Kazakhstan</td>\n",
       "      <td>45.964287</td>\n",
       "      <td>63.305522</td>\n",
       "    </tr>\n",
       "    <tr>\n",
       "      <th>4</th>\n",
       "      <td>Cape Canaveral Air Force Station, United States</td>\n",
       "      <td>28.491981</td>\n",
       "      <td>-80.580114</td>\n",
       "    </tr>\n",
       "    <tr>\n",
       "      <th>5</th>\n",
       "      <td>Baikonur Cosmodrome, Kazakhstan</td>\n",
       "      <td>45.9645851</td>\n",
       "      <td>63.3030541</td>\n",
       "    </tr>\n",
       "    <tr>\n",
       "      <th>6</th>\n",
       "      <td>Electron</td>\n",
       "      <td>-39.261579</td>\n",
       "      <td>177.864987</td>\n",
       "    </tr>\n",
       "    <tr>\n",
       "      <th>7</th>\n",
       "      <td>Xichang Satellite Launch Center, China</td>\n",
       "      <td>27.8907315</td>\n",
       "      <td>102.2434799</td>\n",
       "    </tr>\n",
       "    <tr>\n",
       "      <th>8</th>\n",
       "      <td>Centre Spatial Guyanais , French Guiana</td>\n",
       "      <td>4.8862848</td>\n",
       "      <td>-53.0689692</td>\n",
       "    </tr>\n",
       "    <tr>\n",
       "      <th>9</th>\n",
       "      <td>Jiuquan Satellite Launch Center, China</td>\n",
       "      <td>40.9845227</td>\n",
       "      <td>100.1911854</td>\n",
       "    </tr>\n",
       "  </tbody>\n",
       "</table>\n",
       "</div>"
      ],
      "text/plain": [
       "                                       Launch Site         lat          lon\n",
       "0                                 Plesetsk, Russia   62.927545    40.575023\n",
       "1         Satish Dhawan Space Centre (SHAR), India   13.733271    80.234446\n",
       "2               Taiyuan Space Launch Center, China   38.848830   111.608180\n",
       "3                  Baikonur Cosmodrome, Kazakhstan   45.964287    63.305522\n",
       "4  Cape Canaveral Air Force Station, United States   28.491981   -80.580114\n",
       "5                  Baikonur Cosmodrome, Kazakhstan  45.9645851   63.3030541\n",
       "6                                         Electron  -39.261579   177.864987\n",
       "7           Xichang Satellite Launch Center, China  27.8907315  102.2434799\n",
       "8          Centre Spatial Guyanais , French Guiana   4.8862848  -53.0689692\n",
       "9           Jiuquan Satellite Launch Center, China  40.9845227  100.1911854"
      ]
     },
     "execution_count": 19,
     "metadata": {},
     "output_type": "execute_result"
    }
   ],
   "source": [
    "coords_df = pd.DataFrame(coords)\n",
    "coords_df"
   ]
  },
  {
   "cell_type": "markdown",
   "metadata": {},
   "source": [
    "# Merge coordinates into launches table"
   ]
  },
  {
   "cell_type": "code",
   "execution_count": 20,
   "metadata": {},
   "outputs": [],
   "source": [
    "#The Coordinates dataframe could be merged with the launch dataframe to provide coordinates of each launch.\n",
    "merge_df = pd.merge(launches_read, coords_df, on=\"Launch Site\", how='outer')"
   ]
  },
  {
   "cell_type": "code",
   "execution_count": 22,
   "metadata": {},
   "outputs": [],
   "source": [
    "#Save the scraped data into a CSV file. \n",
    "\n",
    "launches_output_file = \"launches.csv\"\n",
    "merge_df.to_csv(launches_output_file)"
   ]
  },
  {
   "cell_type": "code",
   "execution_count": 25,
   "metadata": {},
   "outputs": [
    {
     "data": {
      "text/html": [
       "<div>\n",
       "<style scoped>\n",
       "    .dataframe tbody tr th:only-of-type {\n",
       "        vertical-align: middle;\n",
       "    }\n",
       "\n",
       "    .dataframe tbody tr th {\n",
       "        vertical-align: top;\n",
       "    }\n",
       "\n",
       "    .dataframe thead th {\n",
       "        text-align: right;\n",
       "    }\n",
       "</style>\n",
       "<table border=\"1\" class=\"dataframe\">\n",
       "  <thead>\n",
       "    <tr style=\"text-align: right;\">\n",
       "      <th></th>\n",
       "      <th>Unnamed: 0</th>\n",
       "      <th>Satellite Name</th>\n",
       "      <th>Launch Date</th>\n",
       "      <th>Launch Site</th>\n",
       "      <th>lat</th>\n",
       "      <th>lon</th>\n",
       "    </tr>\n",
       "  </thead>\n",
       "  <tbody>\n",
       "    <tr>\n",
       "      <th>0</th>\n",
       "      <td>0</td>\n",
       "      <td>COSMOS 2491 DEB</td>\n",
       "      <td>25 December 2013 00:31</td>\n",
       "      <td>Plesetsk, Russia</td>\n",
       "      <td>62.927545</td>\n",
       "      <td>40.575023</td>\n",
       "    </tr>\n",
       "    <tr>\n",
       "      <th>1</th>\n",
       "      <td>1</td>\n",
       "      <td>COSMOS 2491 DEB</td>\n",
       "      <td>25 December 2013 00:31</td>\n",
       "      <td>Plesetsk, Russia</td>\n",
       "      <td>62.927545</td>\n",
       "      <td>40.575023</td>\n",
       "    </tr>\n",
       "    <tr>\n",
       "      <th>2</th>\n",
       "      <td>2</td>\n",
       "      <td>COSMOS 2543</td>\n",
       "      <td>25 November 2019 17:52</td>\n",
       "      <td>Plesetsk, Russia</td>\n",
       "      <td>62.927545</td>\n",
       "      <td>40.575023</td>\n",
       "    </tr>\n",
       "    <tr>\n",
       "      <th>3</th>\n",
       "      <td>3</td>\n",
       "      <td>COSMOS 2543 (GLONASS</td>\n",
       "      <td>11 December 2019 08:54</td>\n",
       "      <td>Plesetsk, Russia</td>\n",
       "      <td>62.927545</td>\n",
       "      <td>40.575023</td>\n",
       "    </tr>\n",
       "    <tr>\n",
       "      <th>4</th>\n",
       "      <td>4</td>\n",
       "      <td>FREGAT R/B</td>\n",
       "      <td>11 December 2019 08:54</td>\n",
       "      <td>Plesetsk, Russia</td>\n",
       "      <td>62.927545</td>\n",
       "      <td>40.575023</td>\n",
       "    </tr>\n",
       "    <tr>\n",
       "      <th>...</th>\n",
       "      <td>...</td>\n",
       "      <td>...</td>\n",
       "      <td>...</td>\n",
       "      <td>...</td>\n",
       "      <td>...</td>\n",
       "      <td>...</td>\n",
       "    </tr>\n",
       "    <tr>\n",
       "      <th>120</th>\n",
       "      <td>120</td>\n",
       "      <td>SJ-7 DEB</td>\n",
       "      <td>05 July 2005 22:40</td>\n",
       "      <td>Jiuquan Satellite Launch Center, China</td>\n",
       "      <td>40.984523</td>\n",
       "      <td>100.191185</td>\n",
       "    </tr>\n",
       "    <tr>\n",
       "      <th>121</th>\n",
       "      <td>121</td>\n",
       "      <td>SJ-7 DEB</td>\n",
       "      <td>05 July 2005 22:40</td>\n",
       "      <td>Jiuquan Satellite Launch Center, China</td>\n",
       "      <td>40.984523</td>\n",
       "      <td>100.191185</td>\n",
       "    </tr>\n",
       "    <tr>\n",
       "      <th>122</th>\n",
       "      <td>122</td>\n",
       "      <td>SJ-7 DEB</td>\n",
       "      <td>05 July 2005 22:40</td>\n",
       "      <td>Jiuquan Satellite Launch Center, China</td>\n",
       "      <td>40.984523</td>\n",
       "      <td>100.191185</td>\n",
       "    </tr>\n",
       "    <tr>\n",
       "      <th>123</th>\n",
       "      <td>123</td>\n",
       "      <td>RS-44</td>\n",
       "      <td>26 December 2019 23:11</td>\n",
       "      <td>Amateur radio</td>\n",
       "      <td>NaN</td>\n",
       "      <td>NaN</td>\n",
       "    </tr>\n",
       "    <tr>\n",
       "      <th>124</th>\n",
       "      <td>124</td>\n",
       "      <td>RS-44</td>\n",
       "      <td>26 December 2019 23:11</td>\n",
       "      <td>Amateur radio</td>\n",
       "      <td>NaN</td>\n",
       "      <td>NaN</td>\n",
       "    </tr>\n",
       "  </tbody>\n",
       "</table>\n",
       "<p>125 rows × 6 columns</p>\n",
       "</div>"
      ],
      "text/plain": [
       "     Unnamed: 0        Satellite Name             Launch Date  \\\n",
       "0             0       COSMOS 2491 DEB  25 December 2013 00:31   \n",
       "1             1       COSMOS 2491 DEB  25 December 2013 00:31   \n",
       "2             2           COSMOS 2543  25 November 2019 17:52   \n",
       "3             3  COSMOS 2543 (GLONASS  11 December 2019 08:54   \n",
       "4             4            FREGAT R/B  11 December 2019 08:54   \n",
       "..          ...                   ...                     ...   \n",
       "120         120              SJ-7 DEB      05 July 2005 22:40   \n",
       "121         121              SJ-7 DEB      05 July 2005 22:40   \n",
       "122         122              SJ-7 DEB      05 July 2005 22:40   \n",
       "123         123                 RS-44  26 December 2019 23:11   \n",
       "124         124                 RS-44  26 December 2019 23:11   \n",
       "\n",
       "                                Launch Site        lat         lon  \n",
       "0                          Plesetsk, Russia  62.927545   40.575023  \n",
       "1                          Plesetsk, Russia  62.927545   40.575023  \n",
       "2                          Plesetsk, Russia  62.927545   40.575023  \n",
       "3                          Plesetsk, Russia  62.927545   40.575023  \n",
       "4                          Plesetsk, Russia  62.927545   40.575023  \n",
       "..                                      ...        ...         ...  \n",
       "120  Jiuquan Satellite Launch Center, China  40.984523  100.191185  \n",
       "121  Jiuquan Satellite Launch Center, China  40.984523  100.191185  \n",
       "122  Jiuquan Satellite Launch Center, China  40.984523  100.191185  \n",
       "123                          Amateur radio         NaN         NaN  \n",
       "124                          Amateur radio         NaN         NaN  \n",
       "\n",
       "[125 rows x 6 columns]"
      ]
     },
     "execution_count": 25,
     "metadata": {},
     "output_type": "execute_result"
    }
   ],
   "source": [
    "launches_read = pd.read_csv(launches_output_file)\n",
    "launches_read"
   ]
  },
  {
   "cell_type": "code",
   "execution_count": 26,
   "metadata": {},
   "outputs": [],
   "source": [
    "#Clean up column names\n",
    "launches_read = launches_read[[\"Satellite Name\",\n",
    "                               \"Launch Date\",\n",
    "                               \"Launch Site\", \n",
    "                               \"lat\", \"lon\"]]"
   ]
  },
  {
   "cell_type": "code",
   "execution_count": 27,
   "metadata": {},
   "outputs": [
    {
     "data": {
      "text/html": [
       "<div>\n",
       "<style scoped>\n",
       "    .dataframe tbody tr th:only-of-type {\n",
       "        vertical-align: middle;\n",
       "    }\n",
       "\n",
       "    .dataframe tbody tr th {\n",
       "        vertical-align: top;\n",
       "    }\n",
       "\n",
       "    .dataframe thead th {\n",
       "        text-align: right;\n",
       "    }\n",
       "</style>\n",
       "<table border=\"1\" class=\"dataframe\">\n",
       "  <thead>\n",
       "    <tr style=\"text-align: right;\">\n",
       "      <th></th>\n",
       "      <th>Satellite Name</th>\n",
       "      <th>Launch Date</th>\n",
       "      <th>Launch Site</th>\n",
       "      <th>lat</th>\n",
       "      <th>lon</th>\n",
       "    </tr>\n",
       "  </thead>\n",
       "  <tbody>\n",
       "    <tr>\n",
       "      <th>0</th>\n",
       "      <td>COSMOS 2491 DEB</td>\n",
       "      <td>25 December 2013 00:31</td>\n",
       "      <td>Plesetsk, Russia</td>\n",
       "      <td>62.927545</td>\n",
       "      <td>40.575023</td>\n",
       "    </tr>\n",
       "    <tr>\n",
       "      <th>1</th>\n",
       "      <td>COSMOS 2491 DEB</td>\n",
       "      <td>25 December 2013 00:31</td>\n",
       "      <td>Plesetsk, Russia</td>\n",
       "      <td>62.927545</td>\n",
       "      <td>40.575023</td>\n",
       "    </tr>\n",
       "    <tr>\n",
       "      <th>2</th>\n",
       "      <td>COSMOS 2543</td>\n",
       "      <td>25 November 2019 17:52</td>\n",
       "      <td>Plesetsk, Russia</td>\n",
       "      <td>62.927545</td>\n",
       "      <td>40.575023</td>\n",
       "    </tr>\n",
       "    <tr>\n",
       "      <th>3</th>\n",
       "      <td>COSMOS 2543 (GLONASS</td>\n",
       "      <td>11 December 2019 08:54</td>\n",
       "      <td>Plesetsk, Russia</td>\n",
       "      <td>62.927545</td>\n",
       "      <td>40.575023</td>\n",
       "    </tr>\n",
       "    <tr>\n",
       "      <th>4</th>\n",
       "      <td>FREGAT R/B</td>\n",
       "      <td>11 December 2019 08:54</td>\n",
       "      <td>Plesetsk, Russia</td>\n",
       "      <td>62.927545</td>\n",
       "      <td>40.575023</td>\n",
       "    </tr>\n",
       "    <tr>\n",
       "      <th>...</th>\n",
       "      <td>...</td>\n",
       "      <td>...</td>\n",
       "      <td>...</td>\n",
       "      <td>...</td>\n",
       "      <td>...</td>\n",
       "    </tr>\n",
       "    <tr>\n",
       "      <th>120</th>\n",
       "      <td>SJ-7 DEB</td>\n",
       "      <td>05 July 2005 22:40</td>\n",
       "      <td>Jiuquan Satellite Launch Center, China</td>\n",
       "      <td>40.984523</td>\n",
       "      <td>100.191185</td>\n",
       "    </tr>\n",
       "    <tr>\n",
       "      <th>121</th>\n",
       "      <td>SJ-7 DEB</td>\n",
       "      <td>05 July 2005 22:40</td>\n",
       "      <td>Jiuquan Satellite Launch Center, China</td>\n",
       "      <td>40.984523</td>\n",
       "      <td>100.191185</td>\n",
       "    </tr>\n",
       "    <tr>\n",
       "      <th>122</th>\n",
       "      <td>SJ-7 DEB</td>\n",
       "      <td>05 July 2005 22:40</td>\n",
       "      <td>Jiuquan Satellite Launch Center, China</td>\n",
       "      <td>40.984523</td>\n",
       "      <td>100.191185</td>\n",
       "    </tr>\n",
       "    <tr>\n",
       "      <th>123</th>\n",
       "      <td>RS-44</td>\n",
       "      <td>26 December 2019 23:11</td>\n",
       "      <td>Amateur radio</td>\n",
       "      <td>NaN</td>\n",
       "      <td>NaN</td>\n",
       "    </tr>\n",
       "    <tr>\n",
       "      <th>124</th>\n",
       "      <td>RS-44</td>\n",
       "      <td>26 December 2019 23:11</td>\n",
       "      <td>Amateur radio</td>\n",
       "      <td>NaN</td>\n",
       "      <td>NaN</td>\n",
       "    </tr>\n",
       "  </tbody>\n",
       "</table>\n",
       "<p>125 rows × 5 columns</p>\n",
       "</div>"
      ],
      "text/plain": [
       "           Satellite Name             Launch Date  \\\n",
       "0         COSMOS 2491 DEB  25 December 2013 00:31   \n",
       "1         COSMOS 2491 DEB  25 December 2013 00:31   \n",
       "2             COSMOS 2543  25 November 2019 17:52   \n",
       "3    COSMOS 2543 (GLONASS  11 December 2019 08:54   \n",
       "4              FREGAT R/B  11 December 2019 08:54   \n",
       "..                    ...                     ...   \n",
       "120              SJ-7 DEB      05 July 2005 22:40   \n",
       "121              SJ-7 DEB      05 July 2005 22:40   \n",
       "122              SJ-7 DEB      05 July 2005 22:40   \n",
       "123                 RS-44  26 December 2019 23:11   \n",
       "124                 RS-44  26 December 2019 23:11   \n",
       "\n",
       "                                Launch Site        lat         lon  \n",
       "0                          Plesetsk, Russia  62.927545   40.575023  \n",
       "1                          Plesetsk, Russia  62.927545   40.575023  \n",
       "2                          Plesetsk, Russia  62.927545   40.575023  \n",
       "3                          Plesetsk, Russia  62.927545   40.575023  \n",
       "4                          Plesetsk, Russia  62.927545   40.575023  \n",
       "..                                      ...        ...         ...  \n",
       "120  Jiuquan Satellite Launch Center, China  40.984523  100.191185  \n",
       "121  Jiuquan Satellite Launch Center, China  40.984523  100.191185  \n",
       "122  Jiuquan Satellite Launch Center, China  40.984523  100.191185  \n",
       "123                          Amateur radio         NaN         NaN  \n",
       "124                          Amateur radio         NaN         NaN  \n",
       "\n",
       "[125 rows x 5 columns]"
      ]
     },
     "execution_count": 27,
     "metadata": {},
     "output_type": "execute_result"
    }
   ],
   "source": [
    "launches_read"
   ]
  },
  {
   "cell_type": "markdown",
   "metadata": {},
   "source": [
    "# Save again to CSV"
   ]
  },
  {
   "cell_type": "code",
   "execution_count": 28,
   "metadata": {},
   "outputs": [],
   "source": [
    "#Save again with cleaned up column names\n",
    "launches_output_file = \"launches.csv\"\n",
    "launches_read.to_csv(launches_output_file)"
   ]
  }
 ],
 "metadata": {
  "kernelspec": {
   "display_name": "Python 3",
   "language": "python",
   "name": "python3"
  },
  "language_info": {
   "codemirror_mode": {
    "name": "ipython",
    "version": 3
   },
   "file_extension": ".py",
   "mimetype": "text/x-python",
   "name": "python",
   "nbconvert_exporter": "python",
   "pygments_lexer": "ipython3",
   "version": "3.7.6"
  }
 },
 "nbformat": 4,
 "nbformat_minor": 4
}
