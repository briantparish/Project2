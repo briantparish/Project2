{
 "cells": [
  {
   "cell_type": "code",
   "execution_count": 1,
   "metadata": {},
   "outputs": [],
   "source": [
    "from bs4 import BeautifulSoup\n",
    "import pandas as pd\n",
    "from splinter import Browser\n",
    "import time \n",
    "import re\n",
    "import lxml"
   ]
  },
  {
   "cell_type": "code",
   "execution_count": 2,
   "metadata": {},
   "outputs": [
    {
     "data": {
      "text/plain": [
       "'https://heavens-above.com/SatInfo.aspx?satid=44914&lat=0&lng=0&loc=Unspecified&alt=0&tz=UCT'"
      ]
     },
     "execution_count": 2,
     "metadata": {},
     "output_type": "execute_result"
    }
   ],
   "source": [
    "url1 = \"https://heavens-above.com/SatInfo.aspx?satid=\"\n",
    "url2 = \"&lat=0&lng=0&loc=Unspecified&alt=0&tz=UCT\"\n",
    "\n",
    "satid_latest = 44914\n",
    "satid_start = 44910\n",
    "\n",
    "url = url1 + str(satid_latest) + url2\n",
    "url"
   ]
  },
  {
   "cell_type": "code",
   "execution_count": 3,
   "metadata": {},
   "outputs": [],
   "source": [
    "def init_browser():\n",
    "    # @NOTE: Replace the path with your actual path to the chromedriver\n",
    "    executable_path = {\"executable_path\": \"C:\\chromedriver\\chromedriver.exe\"}\n",
    "    return Browser(\"chrome\", **executable_path, headless=False)\n",
    "\n",
    "browser = init_browser()\n",
    "launches = {}"
   ]
  },
  {
   "cell_type": "code",
   "execution_count": 4,
   "metadata": {},
   "outputs": [],
   "source": [
    "browser.visit(url)\n",
    "html = browser.html\n",
    "soup = BeautifulSoup(html, \"html.parser\")\n",
    "#mars[“Title”] = soup.find(\"div\", class_=\"content_title\").get_text()\n",
    "#mars[“Description”] = soup.find(\"div\", class_=\"rollover_description_inner\").get_text()\n",
    "#mars"
   ]
  },
  {
   "cell_type": "code",
   "execution_count": 5,
   "metadata": {
    "scrolled": false
   },
   "outputs": [
    {
     "data": {
      "text/plain": [
       "'STARLINK-1073 - Satellite Information'"
      ]
     },
     "execution_count": 5,
     "metadata": {},
     "output_type": "execute_result"
    }
   ],
   "source": [
    "soup.find(\"span\", class_=\"pagehead\").get_text()"
   ]
  },
  {
   "cell_type": "code",
   "execution_count": 6,
   "metadata": {},
   "outputs": [
    {
     "data": {
      "text/plain": [
       "'STARLINK-1073 - Satellite Information'"
      ]
     },
     "execution_count": 6,
     "metadata": {},
     "output_type": "execute_result"
    }
   ],
   "source": [
    "soup.find(\"span\", class_= \"pagehead\").get_text()"
   ]
  },
  {
   "cell_type": "code",
   "execution_count": 7,
   "metadata": {},
   "outputs": [
    {
     "data": {
      "text/plain": [
       "'07 January 2020 02:19'"
      ]
     },
     "execution_count": 7,
     "metadata": {},
     "output_type": "execute_result"
    }
   ],
   "source": [
    "soup.find(\"span\", id=\"ctl00_cph1_lblLaunchDate\").get_text()"
   ]
  },
  {
   "cell_type": "code",
   "execution_count": 8,
   "metadata": {},
   "outputs": [
    {
     "data": {
      "text/html": [
       "<div>\n",
       "<style scoped>\n",
       "    .dataframe tbody tr th:only-of-type {\n",
       "        vertical-align: middle;\n",
       "    }\n",
       "\n",
       "    .dataframe tbody tr th {\n",
       "        vertical-align: top;\n",
       "    }\n",
       "\n",
       "    .dataframe thead th {\n",
       "        text-align: right;\n",
       "    }\n",
       "</style>\n",
       "<table border=\"1\" class=\"dataframe\">\n",
       "  <thead>\n",
       "    <tr style=\"text-align: right;\">\n",
       "      <th></th>\n",
       "      <th>Satellite Name</th>\n",
       "      <th>Launch Date</th>\n",
       "    </tr>\n",
       "  </thead>\n",
       "  <tbody>\n",
       "  </tbody>\n",
       "</table>\n",
       "</div>"
      ],
      "text/plain": [
       "Empty DataFrame\n",
       "Columns: [Satellite Name, Launch Date]\n",
       "Index: []"
      ]
     },
     "execution_count": 8,
     "metadata": {},
     "output_type": "execute_result"
    }
   ],
   "source": [
    "launches = pd.DataFrame(columns = {\"Satellite Name\", \"Launch Date\", \"Launch Site\"})\n",
    "launches"
   ]
  },
  {
   "cell_type": "code",
   "execution_count": 46,
   "metadata": {},
   "outputs": [
    {
     "name": "stdout",
     "output_type": "stream",
     "text": [
      "Page Not Found\n",
      "Page Not Found\n"
     ]
    }
   ],
   "source": [
    "for x in range(44900, 44914):\n",
    "    try:\n",
    "        url = url1 + str(x) + url2\n",
    "        browser.visit(url)\n",
    "        html = browser.html\n",
    "        time.sleep(3)\n",
    "        soup = BeautifulSoup(html, \"html.parser\")\n",
    "        header = soup.find(\"span\", class_=\"pagehead\").get_text()\n",
    "        date = soup.find(\"span\", id=\"ctl00_cph1_lblLaunchDate\").get_text()\n",
    "        table = soup.find_all('table')[6]\n",
    "        site = table.find_all('td')[3].get_text()\n",
    "        current_launch = pd.DataFrame({\"Satellite Name\": header, \"Launch Date\": date, \"Launch Site\": site}, index=[x])\n",
    "        launches = launches.append(current_launch)\n",
    "    except:\n",
    "        print(\"Page Not Found\")"
   ]
  },
  {
   "cell_type": "code",
   "execution_count": 48,
   "metadata": {},
   "outputs": [
    {
     "data": {
      "text/html": [
       "<div>\n",
       "<style scoped>\n",
       "    .dataframe tbody tr th:only-of-type {\n",
       "        vertical-align: middle;\n",
       "    }\n",
       "\n",
       "    .dataframe tbody tr th {\n",
       "        vertical-align: top;\n",
       "    }\n",
       "\n",
       "    .dataframe thead th {\n",
       "        text-align: right;\n",
       "    }\n",
       "</style>\n",
       "<table border=\"1\" class=\"dataframe\">\n",
       "  <thead>\n",
       "    <tr style=\"text-align: right;\">\n",
       "      <th></th>\n",
       "      <th>Satellite Name</th>\n",
       "      <th>Launch Date</th>\n",
       "      <th>Launch Site</th>\n",
       "    </tr>\n",
       "  </thead>\n",
       "  <tbody>\n",
       "    <tr>\n",
       "      <th>44912</th>\n",
       "      <td>COSMOS 2491 DEB - Satellite Information</td>\n",
       "      <td>25 December 2013 00:31</td>\n",
       "      <td>Plesetsk, Russia</td>\n",
       "    </tr>\n",
       "    <tr>\n",
       "      <th>44913</th>\n",
       "      <td>COSMOS 2491 DEB - Satellite Information</td>\n",
       "      <td>25 December 2013 00:31</td>\n",
       "      <td>Plesetsk, Russia</td>\n",
       "    </tr>\n",
       "    <tr>\n",
       "      <th>44810</th>\n",
       "      <td>FLOCK 4P 12 - Satellite Information</td>\n",
       "      <td>27 November 2019 03:58</td>\n",
       "      <td>Satish Dhawan Space Centre (SHAR), India</td>\n",
       "    </tr>\n",
       "    <tr>\n",
       "      <th>44811</th>\n",
       "      <td>FLOCK 4P 4 - Satellite Information</td>\n",
       "      <td>27 November 2019 03:58</td>\n",
       "      <td>Satish Dhawan Space Centre (SHAR), India</td>\n",
       "    </tr>\n",
       "    <tr>\n",
       "      <th>44812</th>\n",
       "      <td>FLOCK 4P 3 - Satellite Information</td>\n",
       "      <td>27 November 2019 03:58</td>\n",
       "      <td>Satish Dhawan Space Centre (SHAR), India</td>\n",
       "    </tr>\n",
       "    <tr>\n",
       "      <th>...</th>\n",
       "      <td>...</td>\n",
       "      <td>...</td>\n",
       "      <td>...</td>\n",
       "    </tr>\n",
       "    <tr>\n",
       "      <th>44907</th>\n",
       "      <td>GONETS M 16 (M28) - Satellite Information</td>\n",
       "      <td>26 December 2019 23:11</td>\n",
       "      <td>Plesetsk, Russia</td>\n",
       "    </tr>\n",
       "    <tr>\n",
       "      <th>44908</th>\n",
       "      <td>OBJECT D - Satellite Information</td>\n",
       "      <td>26 December 2019 23:11</td>\n",
       "      <td>Plesetsk, Russia</td>\n",
       "    </tr>\n",
       "    <tr>\n",
       "      <th>44909</th>\n",
       "      <td>RS-44 - Satellite Information</td>\n",
       "      <td>26 December 2019 23:11</td>\n",
       "      <td>Amateur radio</td>\n",
       "    </tr>\n",
       "    <tr>\n",
       "      <th>44912</th>\n",
       "      <td>COSMOS 2491 DEB - Satellite Information</td>\n",
       "      <td>25 December 2013 00:31</td>\n",
       "      <td>Plesetsk, Russia</td>\n",
       "    </tr>\n",
       "    <tr>\n",
       "      <th>44913</th>\n",
       "      <td>COSMOS 2491 DEB - Satellite Information</td>\n",
       "      <td>25 December 2013 00:31</td>\n",
       "      <td>Plesetsk, Russia</td>\n",
       "    </tr>\n",
       "  </tbody>\n",
       "</table>\n",
       "<p>115 rows × 3 columns</p>\n",
       "</div>"
      ],
      "text/plain": [
       "                                  Satellite Name             Launch Date  \\\n",
       "44912    COSMOS 2491 DEB - Satellite Information  25 December 2013 00:31   \n",
       "44913    COSMOS 2491 DEB - Satellite Information  25 December 2013 00:31   \n",
       "44810        FLOCK 4P 12 - Satellite Information  27 November 2019 03:58   \n",
       "44811         FLOCK 4P 4 - Satellite Information  27 November 2019 03:58   \n",
       "44812         FLOCK 4P 3 - Satellite Information  27 November 2019 03:58   \n",
       "...                                          ...                     ...   \n",
       "44907  GONETS M 16 (M28) - Satellite Information  26 December 2019 23:11   \n",
       "44908           OBJECT D - Satellite Information  26 December 2019 23:11   \n",
       "44909              RS-44 - Satellite Information  26 December 2019 23:11   \n",
       "44912    COSMOS 2491 DEB - Satellite Information  25 December 2013 00:31   \n",
       "44913    COSMOS 2491 DEB - Satellite Information  25 December 2013 00:31   \n",
       "\n",
       "                                    Launch Site  \n",
       "44912                          Plesetsk, Russia  \n",
       "44913                          Plesetsk, Russia  \n",
       "44810  Satish Dhawan Space Centre (SHAR), India  \n",
       "44811  Satish Dhawan Space Centre (SHAR), India  \n",
       "44812  Satish Dhawan Space Centre (SHAR), India  \n",
       "...                                         ...  \n",
       "44907                          Plesetsk, Russia  \n",
       "44908                          Plesetsk, Russia  \n",
       "44909                            Amateur radio   \n",
       "44912                          Plesetsk, Russia  \n",
       "44913                          Plesetsk, Russia  \n",
       "\n",
       "[115 rows x 3 columns]"
      ]
     },
     "execution_count": 48,
     "metadata": {},
     "output_type": "execute_result"
    }
   ],
   "source": [
    "#current_launch = pd.DataFrame({\"Satellite Name\": header, \"Launch Date\": date}, index=[0])\n",
    "#launches = launches.append(current_launch)\n",
    "#launches = launches.dropna()\n",
    "launches"
   ]
  },
  {
   "cell_type": "code",
   "execution_count": 49,
   "metadata": {},
   "outputs": [],
   "source": [
    "launches_output_file = \"launches.csv\"\n",
    "launches.to_csv(launches_output_file)"
   ]
  },
  {
   "cell_type": "code",
   "execution_count": 70,
   "metadata": {},
   "outputs": [
    {
     "data": {
      "text/html": [
       "<div>\n",
       "<style scoped>\n",
       "    .dataframe tbody tr th:only-of-type {\n",
       "        vertical-align: middle;\n",
       "    }\n",
       "\n",
       "    .dataframe tbody tr th {\n",
       "        vertical-align: top;\n",
       "    }\n",
       "\n",
       "    .dataframe thead th {\n",
       "        text-align: right;\n",
       "    }\n",
       "</style>\n",
       "<table border=\"1\" class=\"dataframe\">\n",
       "  <thead>\n",
       "    <tr style=\"text-align: right;\">\n",
       "      <th></th>\n",
       "      <th>Unnamed: 0</th>\n",
       "      <th>Unnamed: 0.1</th>\n",
       "      <th>Satellite Name</th>\n",
       "      <th>Launch Date</th>\n",
       "      <th>Launch Site</th>\n",
       "    </tr>\n",
       "  </thead>\n",
       "  <tbody>\n",
       "    <tr>\n",
       "      <th>0</th>\n",
       "      <td>0</td>\n",
       "      <td>44912</td>\n",
       "      <td>COSMOS 2491 DEB</td>\n",
       "      <td>25 December 2013 00:31</td>\n",
       "      <td>Plesetsk, Russia</td>\n",
       "    </tr>\n",
       "    <tr>\n",
       "      <th>1</th>\n",
       "      <td>1</td>\n",
       "      <td>44913</td>\n",
       "      <td>COSMOS 2491 DEB</td>\n",
       "      <td>25 December 2013 00:31</td>\n",
       "      <td>Plesetsk, Russia</td>\n",
       "    </tr>\n",
       "    <tr>\n",
       "      <th>2</th>\n",
       "      <td>2</td>\n",
       "      <td>44810</td>\n",
       "      <td>FLOCK 4P 12</td>\n",
       "      <td>27 November 2019 03:58</td>\n",
       "      <td>Satish Dhawan Space Centre (SHAR), India</td>\n",
       "    </tr>\n",
       "    <tr>\n",
       "      <th>3</th>\n",
       "      <td>3</td>\n",
       "      <td>44811</td>\n",
       "      <td>FLOCK 4P 4</td>\n",
       "      <td>27 November 2019 03:58</td>\n",
       "      <td>Satish Dhawan Space Centre (SHAR), India</td>\n",
       "    </tr>\n",
       "    <tr>\n",
       "      <th>4</th>\n",
       "      <td>4</td>\n",
       "      <td>44812</td>\n",
       "      <td>FLOCK 4P 3</td>\n",
       "      <td>27 November 2019 03:58</td>\n",
       "      <td>Satish Dhawan Space Centre (SHAR), India</td>\n",
       "    </tr>\n",
       "    <tr>\n",
       "      <th>...</th>\n",
       "      <td>...</td>\n",
       "      <td>...</td>\n",
       "      <td>...</td>\n",
       "      <td>...</td>\n",
       "      <td>...</td>\n",
       "    </tr>\n",
       "    <tr>\n",
       "      <th>110</th>\n",
       "      <td>110</td>\n",
       "      <td>44907</td>\n",
       "      <td>GONETS M 16 (M28)</td>\n",
       "      <td>26 December 2019 23:11</td>\n",
       "      <td>Plesetsk, Russia</td>\n",
       "    </tr>\n",
       "    <tr>\n",
       "      <th>111</th>\n",
       "      <td>111</td>\n",
       "      <td>44908</td>\n",
       "      <td>OBJECT D</td>\n",
       "      <td>26 December 2019 23:11</td>\n",
       "      <td>Plesetsk, Russia</td>\n",
       "    </tr>\n",
       "    <tr>\n",
       "      <th>112</th>\n",
       "      <td>112</td>\n",
       "      <td>44909</td>\n",
       "      <td>RS-44</td>\n",
       "      <td>26 December 2019 23:11</td>\n",
       "      <td>Amateur radio</td>\n",
       "    </tr>\n",
       "    <tr>\n",
       "      <th>113</th>\n",
       "      <td>113</td>\n",
       "      <td>44912</td>\n",
       "      <td>COSMOS 2491 DEB</td>\n",
       "      <td>25 December 2013 00:31</td>\n",
       "      <td>Plesetsk, Russia</td>\n",
       "    </tr>\n",
       "    <tr>\n",
       "      <th>114</th>\n",
       "      <td>114</td>\n",
       "      <td>44913</td>\n",
       "      <td>COSMOS 2491 DEB</td>\n",
       "      <td>25 December 2013 00:31</td>\n",
       "      <td>Plesetsk, Russia</td>\n",
       "    </tr>\n",
       "  </tbody>\n",
       "</table>\n",
       "<p>115 rows × 5 columns</p>\n",
       "</div>"
      ],
      "text/plain": [
       "     Unnamed: 0  Unnamed: 0.1     Satellite Name             Launch Date  \\\n",
       "0             0         44912    COSMOS 2491 DEB  25 December 2013 00:31   \n",
       "1             1         44913    COSMOS 2491 DEB  25 December 2013 00:31   \n",
       "2             2         44810        FLOCK 4P 12  27 November 2019 03:58   \n",
       "3             3         44811         FLOCK 4P 4  27 November 2019 03:58   \n",
       "4             4         44812         FLOCK 4P 3  27 November 2019 03:58   \n",
       "..          ...           ...                ...                     ...   \n",
       "110         110         44907  GONETS M 16 (M28)  26 December 2019 23:11   \n",
       "111         111         44908           OBJECT D  26 December 2019 23:11   \n",
       "112         112         44909              RS-44  26 December 2019 23:11   \n",
       "113         113         44912    COSMOS 2491 DEB  25 December 2013 00:31   \n",
       "114         114         44913    COSMOS 2491 DEB  25 December 2013 00:31   \n",
       "\n",
       "                                  Launch Site  \n",
       "0                            Plesetsk, Russia  \n",
       "1                            Plesetsk, Russia  \n",
       "2    Satish Dhawan Space Centre (SHAR), India  \n",
       "3    Satish Dhawan Space Centre (SHAR), India  \n",
       "4    Satish Dhawan Space Centre (SHAR), India  \n",
       "..                                        ...  \n",
       "110                          Plesetsk, Russia  \n",
       "111                          Plesetsk, Russia  \n",
       "112                            Amateur radio   \n",
       "113                          Plesetsk, Russia  \n",
       "114                          Plesetsk, Russia  \n",
       "\n",
       "[115 rows x 5 columns]"
      ]
     },
     "execution_count": 70,
     "metadata": {},
     "output_type": "execute_result"
    }
   ],
   "source": [
    "launches_read = pd.read_csv(launches_output_file)\n",
    "launches_read"
   ]
  },
  {
   "cell_type": "code",
   "execution_count": 71,
   "metadata": {},
   "outputs": [
    {
     "data": {
      "text/plain": [
       "array(['Plesetsk, Russia', 'Satish Dhawan Space Centre (SHAR), India',\n",
       "       'Taiyuan Space Launch Center, China',\n",
       "       'Cape Canaveral Air Force Station, United States', 'Electron',\n",
       "       'Baikonur Cosmodrome, Kazakhstan',\n",
       "       'Xichang Satellite Launch Center, China',\n",
       "       'Centre Spatial Guyanais , French Guiana',\n",
       "       'Jiuquan Satellite Launch Center, China', 'Amateur radio '],\n",
       "      dtype=object)"
      ]
     },
     "execution_count": 71,
     "metadata": {},
     "output_type": "execute_result"
    }
   ],
   "source": [
    "launches_read[\"Launch Site\"].unique()"
   ]
  },
  {
   "cell_type": "code",
   "execution_count": 72,
   "metadata": {},
   "outputs": [
    {
     "data": {
      "text/html": [
       "<div>\n",
       "<style scoped>\n",
       "    .dataframe tbody tr th:only-of-type {\n",
       "        vertical-align: middle;\n",
       "    }\n",
       "\n",
       "    .dataframe tbody tr th {\n",
       "        vertical-align: top;\n",
       "    }\n",
       "\n",
       "    .dataframe thead th {\n",
       "        text-align: right;\n",
       "    }\n",
       "</style>\n",
       "<table border=\"1\" class=\"dataframe\">\n",
       "  <thead>\n",
       "    <tr style=\"text-align: right;\">\n",
       "      <th></th>\n",
       "      <th>Unnamed: 0</th>\n",
       "      <th>Unnamed: 0.1</th>\n",
       "      <th>Satellite Name</th>\n",
       "      <th>Launch Date</th>\n",
       "      <th>Launch Site</th>\n",
       "    </tr>\n",
       "  </thead>\n",
       "  <tbody>\n",
       "    <tr>\n",
       "      <th>0</th>\n",
       "      <td>0</td>\n",
       "      <td>44912</td>\n",
       "      <td>COSMOS 2491 DEB</td>\n",
       "      <td>25 December 2013 00:31</td>\n",
       "      <td>Plesetsk, Russia</td>\n",
       "    </tr>\n",
       "    <tr>\n",
       "      <th>1</th>\n",
       "      <td>1</td>\n",
       "      <td>44913</td>\n",
       "      <td>COSMOS 2491 DEB</td>\n",
       "      <td>25 December 2013 00:31</td>\n",
       "      <td>Plesetsk, Russia</td>\n",
       "    </tr>\n",
       "    <tr>\n",
       "      <th>2</th>\n",
       "      <td>2</td>\n",
       "      <td>44810</td>\n",
       "      <td>FLOCK 4P 12</td>\n",
       "      <td>27 November 2019 03:58</td>\n",
       "      <td>Satish Dhawan Space Centre (SHAR), India</td>\n",
       "    </tr>\n",
       "    <tr>\n",
       "      <th>3</th>\n",
       "      <td>3</td>\n",
       "      <td>44811</td>\n",
       "      <td>FLOCK 4P 4</td>\n",
       "      <td>27 November 2019 03:58</td>\n",
       "      <td>Satish Dhawan Space Centre (SHAR), India</td>\n",
       "    </tr>\n",
       "    <tr>\n",
       "      <th>4</th>\n",
       "      <td>4</td>\n",
       "      <td>44812</td>\n",
       "      <td>FLOCK 4P 3</td>\n",
       "      <td>27 November 2019 03:58</td>\n",
       "      <td>Satish Dhawan Space Centre (SHAR), India</td>\n",
       "    </tr>\n",
       "    <tr>\n",
       "      <th>...</th>\n",
       "      <td>...</td>\n",
       "      <td>...</td>\n",
       "      <td>...</td>\n",
       "      <td>...</td>\n",
       "      <td>...</td>\n",
       "    </tr>\n",
       "    <tr>\n",
       "      <th>110</th>\n",
       "      <td>110</td>\n",
       "      <td>44907</td>\n",
       "      <td>GONETS M 16 (M28)</td>\n",
       "      <td>26 December 2019 23:11</td>\n",
       "      <td>Plesetsk, Russia</td>\n",
       "    </tr>\n",
       "    <tr>\n",
       "      <th>111</th>\n",
       "      <td>111</td>\n",
       "      <td>44908</td>\n",
       "      <td>OBJECT D</td>\n",
       "      <td>26 December 2019 23:11</td>\n",
       "      <td>Plesetsk, Russia</td>\n",
       "    </tr>\n",
       "    <tr>\n",
       "      <th>112</th>\n",
       "      <td>112</td>\n",
       "      <td>44909</td>\n",
       "      <td>RS-44</td>\n",
       "      <td>26 December 2019 23:11</td>\n",
       "      <td>Amateur radio</td>\n",
       "    </tr>\n",
       "    <tr>\n",
       "      <th>113</th>\n",
       "      <td>113</td>\n",
       "      <td>44912</td>\n",
       "      <td>COSMOS 2491 DEB</td>\n",
       "      <td>25 December 2013 00:31</td>\n",
       "      <td>Plesetsk, Russia</td>\n",
       "    </tr>\n",
       "    <tr>\n",
       "      <th>114</th>\n",
       "      <td>114</td>\n",
       "      <td>44913</td>\n",
       "      <td>COSMOS 2491 DEB</td>\n",
       "      <td>25 December 2013 00:31</td>\n",
       "      <td>Plesetsk, Russia</td>\n",
       "    </tr>\n",
       "  </tbody>\n",
       "</table>\n",
       "<p>115 rows × 5 columns</p>\n",
       "</div>"
      ],
      "text/plain": [
       "     Unnamed: 0  Unnamed: 0.1     Satellite Name             Launch Date  \\\n",
       "0             0         44912    COSMOS 2491 DEB  25 December 2013 00:31   \n",
       "1             1         44913    COSMOS 2491 DEB  25 December 2013 00:31   \n",
       "2             2         44810        FLOCK 4P 12  27 November 2019 03:58   \n",
       "3             3         44811         FLOCK 4P 4  27 November 2019 03:58   \n",
       "4             4         44812         FLOCK 4P 3  27 November 2019 03:58   \n",
       "..          ...           ...                ...                     ...   \n",
       "110         110         44907  GONETS M 16 (M28)  26 December 2019 23:11   \n",
       "111         111         44908           OBJECT D  26 December 2019 23:11   \n",
       "112         112         44909              RS-44  26 December 2019 23:11   \n",
       "113         113         44912    COSMOS 2491 DEB  25 December 2013 00:31   \n",
       "114         114         44913    COSMOS 2491 DEB  25 December 2013 00:31   \n",
       "\n",
       "                                  Launch Site  \n",
       "0                            Plesetsk, Russia  \n",
       "1                            Plesetsk, Russia  \n",
       "2    Satish Dhawan Space Centre (SHAR), India  \n",
       "3    Satish Dhawan Space Centre (SHAR), India  \n",
       "4    Satish Dhawan Space Centre (SHAR), India  \n",
       "..                                        ...  \n",
       "110                          Plesetsk, Russia  \n",
       "111                          Plesetsk, Russia  \n",
       "112                            Amateur radio   \n",
       "113                          Plesetsk, Russia  \n",
       "114                          Plesetsk, Russia  \n",
       "\n",
       "[115 rows x 5 columns]"
      ]
     },
     "execution_count": 72,
     "metadata": {},
     "output_type": "execute_result"
    }
   ],
   "source": [
    "launches_read[\"Launch Site\"].dropna(inplace=True)\n",
    "launches_read"
   ]
  },
  {
   "cell_type": "code",
   "execution_count": 56,
   "metadata": {},
   "outputs": [
    {
     "name": "stdout",
     "output_type": "stream",
     "text": [
      "Unnamed: 0\n",
      "Satellite Name\n",
      "Launch Date\n",
      "Launch Site\n"
     ]
    }
   ],
   "source": [
    "for site in launches_read:\n",
    "    print(site)\n",
    "    #if site[\"Launch Site\"] == \"Plesetsk, Russia\":\n",
    "    #    print(\"62.927704, 40.575077\")"
   ]
  },
  {
   "cell_type": "code",
   "execution_count": 34,
   "metadata": {},
   "outputs": [
    {
     "ename": "TypeError",
     "evalue": "'NoneType' object is not callable",
     "output_type": "error",
     "traceback": [
      "\u001b[1;31m---------------------------------------------------------------------------\u001b[0m",
      "\u001b[1;31mTypeError\u001b[0m                                 Traceback (most recent call last)",
      "\u001b[1;32m<ipython-input-34-9be55fb5d6d5>\u001b[0m in \u001b[0;36m<module>\u001b[1;34m\u001b[0m\n\u001b[1;32m----> 1\u001b[1;33m \u001b[0msoup\u001b[0m\u001b[1;33m.\u001b[0m\u001b[0mfind_table\u001b[0m\u001b[1;33m(\u001b[0m\u001b[1;33m)\u001b[0m\u001b[1;33m\u001b[0m\u001b[1;33m\u001b[0m\u001b[0m\n\u001b[0m",
      "\u001b[1;31mTypeError\u001b[0m: 'NoneType' object is not callable"
     ]
    }
   ],
   "source": []
  },
  {
   "cell_type": "code",
   "execution_count": null,
   "metadata": {},
   "outputs": [],
   "source": []
  }
 ],
 "metadata": {
  "kernelspec": {
   "display_name": "Python 3",
   "language": "python",
   "name": "python3"
  },
  "language_info": {
   "codemirror_mode": {
    "name": "ipython",
    "version": 3
   },
   "file_extension": ".py",
   "mimetype": "text/x-python",
   "name": "python",
   "nbconvert_exporter": "python",
   "pygments_lexer": "ipython3",
   "version": "3.8.1"
  }
 },
 "nbformat": 4,
 "nbformat_minor": 4
}
